{
 "cells": [
  {
   "attachments": {},
   "cell_type": "markdown",
   "metadata": {},
   "source": [
    "# 创建自己的图结构"
   ]
  },
  {
   "cell_type": "code",
   "execution_count": 101,
   "metadata": {},
   "outputs": [],
   "source": [
    "from typing import List, Mapping, Any, Set\n",
    "\n",
    "\n",
    "class Graph:\n",
    "    def __init__(self):\n",
    "        # key 是该节点的唯一标识。 key 等于待转换的图结构中节点的表示方式, 比如其他图中节点的表示方式是 1,2,3, 或者 'A', 'B', 'C', 那么 key 就是对应的值\n",
    "        # value 是具体的节点。 value 就是我们利用待转换的图结构中的节点, 所创建出来的属于我们自己结构的节点。\n",
    "        self.nodes: Mapping[Any, Node] = {}\n",
    "        self.edges: Set[Edge] = set()\n",
    "\n",
    "\n",
    "class Node:\n",
    "    def __init__(self, val):\n",
    "        self.val = val\n",
    "        self.ind = 0\n",
    "        self.outd = 0\n",
    "        self.nexts: List[Node] = []\n",
    "        self.edges: List[Edge] = []\n",
    "\n",
    "\n",
    "class Edge:\n",
    "    def __init__(self, fr: Node, to: Node, weight=0):\n",
    "        self.fr = fr\n",
    "        self.to = to\n",
    "        self.weight = weight\n"
   ]
  },
  {
   "cell_type": "code",
   "execution_count": 102,
   "metadata": {},
   "outputs": [],
   "source": [
    "\"\"\" 支持的结构:\n",
    "matrix = [\n",
    "    [权值, fr节点, to节点], # 单向边: \n",
    "]\n",
    "\"\"\"\n",
    "def generate_graph2(matrix: List[List[int]]):\n",
    "    graph = Graph()\n",
    "    for item in matrix: # 每一个 item 都是一条边\n",
    "        weight, fr, to = item # \n",
    "        # 判断边的两个节点是否已存在, 不存在则新增\n",
    "        if fr not in graph.nodes:\n",
    "            graph.nodes[fr] = Node(fr)\n",
    "        if to not in graph.nodes:\n",
    "            graph.nodes[to] = Node(to)\n",
    "        # 不管节点存不存在, 新的边肯定是要添加的, 节点的属性也是要更新的\n",
    "        fr_node = graph.nodes.get(fr)\n",
    "        to_node = graph.nodes.get(to)\n",
    "        new_edge = Edge(fr_node, to_node, weight)\n",
    "        graph.edges.add(new_edge) # 新的边\n",
    "        fr_node.edges.append(new_edge) # fr 增加一个邻接边\n",
    "        fr_node.nexts.append(to_node) # fr 增加一个邻接点\n",
    "        fr_node.outd += 1 # fr 的出度 + 1\n",
    "        to_node.ind += 1  # to 的入度 + 1\n",
    "    return graph"
   ]
  },
  {
   "cell_type": "code",
   "execution_count": 103,
   "metadata": {},
   "outputs": [],
   "source": [
    "\"\"\" 支持的结构:\n",
    "matrix = [\n",
    "    [节点, 节点], # 双向边\n",
    "]\n",
    "\"\"\"\n",
    "def generate_graph(matrix):\n",
    "    graph = Graph()\n",
    "    for one_edge in matrix:\n",
    "        n1, n2 = one_edge # 双向边\n",
    "        # 添加新节点\n",
    "        if n1 not in graph.nodes:\n",
    "            graph.nodes[n1] = Node(n1)\n",
    "        if n2 not in graph.nodes:\n",
    "            graph.nodes[n2] = Node(n2)\n",
    "        n1_node, n2_node = graph.nodes.get(n1), graph.nodes.get(n2)\n",
    "        e1, e2 = Edge(n1_node, n2_node), Edge(n2_node, n1_node)\n",
    "        # 添加边\n",
    "        graph.edges.add(e1)\n",
    "        graph.edges.add(e2)\n",
    "        n1_node.edges.append(e1)\n",
    "        n2_node.edges.append(e2)\n",
    "        # 更新节点属性\n",
    "        n1_node.nexts.append(n2_node)\n",
    "        n2_node.nexts.append(n1_node)\n",
    "        n1_node.outd += 1\n",
    "        n1_node.ind += 1\n",
    "        n2_node.outd += 1\n",
    "        n2_node.ind += 1\n",
    "    return graph"
   ]
  },
  {
   "attachments": {},
   "cell_type": "markdown",
   "metadata": {},
   "source": [
    "# TEST - 广度优先遍历 BFS"
   ]
  },
  {
   "cell_type": "code",
   "execution_count": 104,
   "metadata": {},
   "outputs": [],
   "source": [
    "from queue import Queue\n",
    "\n",
    "\n",
    "# 广度有限遍历, 先处理好当前节点的所有邻接点, 再去处理邻接点的邻接点。 已经处理过的节点不要再处理。\n",
    "# 利用 queue 保存待处理的节点, 利用 set 保存已经处理过的节点\n",
    "def bfs(node):\n",
    "    if node is None:\n",
    "        return\n",
    "    queue = Queue()\n",
    "    selected_node = set()\n",
    "    queue.put(node)\n",
    "    selected_node.add(node)\n",
    "    while not queue.empty():\n",
    "        n = queue.get()\n",
    "        print(n.val, end=' ')  # 出队列时处理\n",
    "        # 处理完后, 先处理该节点的所有邻接点, 所以将他们先全部添加到队列中\n",
    "        for wait_node in n.nexts:\n",
    "            # 处理过的节点不要再处理\n",
    "            if wait_node not in selected_node:\n",
    "                selected_node.add(wait_node)\n",
    "                queue.put(wait_node)\n",
    "    print('')\n"
   ]
  },
  {
   "cell_type": "code",
   "execution_count": 105,
   "metadata": {},
   "outputs": [
    {
     "name": "stdout",
     "output_type": "stream",
     "text": [
      "E C A B D F \n"
     ]
    }
   ],
   "source": [
    "matrix = [\n",
    "    ['A', 'B'],\n",
    "    ['A', 'C'],\n",
    "    ['A', 'D'],\n",
    "    ['B', 'C'],\n",
    "    ['D', 'C'],\n",
    "    ['E', 'C'],\n",
    "    ['D', 'F'],\n",
    "]\n",
    "graph = generate_graph(matrix)\n",
    "bfs(graph.nodes.get('E'))"
   ]
  },
  {
   "attachments": {},
   "cell_type": "markdown",
   "metadata": {},
   "source": [
    "# TEST - 深度优先遍历 DFS"
   ]
  },
  {
   "cell_type": "code",
   "execution_count": 106,
   "metadata": {},
   "outputs": [],
   "source": [
    "# 深度优先, 一直逮着一个往下处理, 没得处理了才回退(出栈)\n",
    "def dfs(node):\n",
    "    stack = []\n",
    "    selected_node = set()\n",
    "    stack.append(node)\n",
    "    print(node.val, end=' ')  # 处理时刻\n",
    "    selected_node.add(node)  # 处理后标记起来\n",
    "\n",
    "    while 0 != len(stack):  # stack 为空说明都被处理过了\n",
    "        n = stack.pop()  # 将处理过的拿走。\n",
    "        # 逮着 n 继续往下处理\n",
    "        for next_node in n.nexts:\n",
    "            if next_node not in selected_node:  # 逮着一个没处理过的\n",
    "                stack.append(n)  # 此时还无法确定 n 的 nexts 都处理过了, 所以重新将 n 压栈\n",
    "                stack.append(next_node)  # 拿到 stack 等待处理\n",
    "                print(next_node.val, end=' ')  # 处理时刻\n",
    "                selected_node.add(next_node)  # 处理后标记\n",
    "                break  # 逮着一个就马上处理, 这才是 \"深度优先\"\n",
    "    print('')"
   ]
  },
  {
   "cell_type": "code",
   "execution_count": 107,
   "metadata": {},
   "outputs": [
    {
     "name": "stdout",
     "output_type": "stream",
     "text": [
      "A B D E C \n"
     ]
    }
   ],
   "source": [
    "matrix = [\n",
    "    ['A', 'B'],\n",
    "    ['A', 'C'],\n",
    "    ['B', 'D'],\n",
    "    ['B', 'E'],\n",
    "]\n",
    "graph = generate_graph(matrix)\n",
    "dfs(graph.nodes.get('A'))"
   ]
  },
  {
   "attachments": {},
   "cell_type": "markdown",
   "metadata": {},
   "source": [
    "# [拓扑排序](https://www.nowcoder.com/practice/88f7e156ca7d43a1a535f619cd3f495c)"
   ]
  },
  {
   "cell_type": "code",
   "execution_count": 108,
   "metadata": {},
   "outputs": [],
   "source": [
    "import sys\n",
    "\n",
    "\n",
    "def get_input():\n",
    "    node_num, _ = sys.stdin.readline().split()\n",
    "    node_num = int(node_num)\n",
    "\n",
    "    # 下标就是节点, 值就是该节点的入度。\n",
    "    nodes_ind = [0] * node_num\n",
    "    # 下标就是节点, 值是该节点的邻接点集合。\n",
    "    nodes_nexts = [[] for _ in range(node_num)]\n",
    "\n",
    "    for line in sys.stdin:\n",
    "        fr, to = line.split()\n",
    "        fr, to = int(fr)-1, int(to)-1  # 输入的节点是从 1 开始\n",
    "        nodes_ind[to] += 1\n",
    "        nodes_nexts[fr].append(to)\n",
    "\n",
    "    return nodes_ind, nodes_nexts\n",
    "\n",
    "\n",
    "def topology(nodes_ind, nodes_nexts):\n",
    "\n",
    "    zero_nodes = []  # 存储入度为 0 的节点\n",
    "    result = []  # 存储拓扑排序后的节点\n",
    "\n",
    "    # 初始化 zero_nodes\n",
    "    for node, ind in enumerate(nodes_ind):\n",
    "        if ind == 0:\n",
    "            zero_nodes.append(node)\n",
    "\n",
    "    if len(zero_nodes) == 0:\n",
    "        return []\n",
    "\n",
    "    while len(zero_nodes) != 0:\n",
    "        node = zero_nodes.pop()\n",
    "        result.append(node)\n",
    "        for next_node in nodes_nexts[node]:\n",
    "            nodes_ind[next_node] -= 1   # 消除该节点的入度影响\n",
    "            if nodes_ind[next_node] == 0:   # 每次消除都应该会有新的节点入度为 0\n",
    "                zero_nodes.append(next_node)\n",
    "\n",
    "    return result if len(result) == len(nodes_ind) else []\n",
    "\n",
    "\n",
    "def main():# if __name__ == \"__main__\":\n",
    "\n",
    "    nodes_ind, nodes_nexts = get_input()\n",
    "    result = topology(nodes_ind, nodes_nexts)\n",
    "\n",
    "    print(\n",
    "        ' '.join(str(node+1) for node in result)\n",
    "        if 0 != len(result) else \n",
    "        '-1'\n",
    "    )\n"
   ]
  },
  {
   "attachments": {},
   "cell_type": "markdown",
   "metadata": {},
   "source": [
    "# TEST - 拓扑排序"
   ]
  },
  {
   "cell_type": "code",
   "execution_count": 109,
   "metadata": {},
   "outputs": [],
   "source": [
    "class Graph:\n",
    "    def __init__(self):\n",
    "        self.nodes = {}\n",
    "class Node:\n",
    "    def __init__(self, val):\n",
    "        self.val = val\n",
    "        self.ind = 0 # 入度\n",
    "        self.nexts = [] # 邻接点 集合"
   ]
  },
  {
   "cell_type": "code",
   "execution_count": 110,
   "metadata": {},
   "outputs": [],
   "source": [
    "def generate_graph(matrix):\n",
    "    graph = Graph()\n",
    "    for edge in matrix:\n",
    "        fr, to = edge\n",
    "        if fr not in graph.nodes:\n",
    "            graph.nodes[fr] = Node(fr)\n",
    "        if to not in graph.nodes:\n",
    "            graph.nodes[to] = Node(to)\n",
    "        fr_node, to_node = graph.nodes.get(fr), graph.nodes.get(to)\n",
    "        fr_node.nexts.append(to_node)\n",
    "        to_node.ind += 1\n",
    "    return graph"
   ]
  },
  {
   "cell_type": "code",
   "execution_count": 111,
   "metadata": {},
   "outputs": [],
   "source": [
    "def topology(graph):\n",
    "    ind_map = {} # 存储各节点的入度\n",
    "    zero_nodes = [] # 存储入度为 0 的节点\n",
    "    result = [] # 存储排序后的节点值\n",
    "    # 初始化 ind_map 和 zero_nodes\n",
    "    for node in graph.nodes.values():\n",
    "        ind_map[node] = node.ind\n",
    "        if node.ind == 0:\n",
    "            zero_nodes.append(node)\n",
    "    if len(zero_nodes) == 0:\n",
    "        return []\n",
    "    while len(zero_nodes) != 0:\n",
    "        node = zero_nodes.pop()\n",
    "        result.append(node)\n",
    "        for next_node in node.nexts:\n",
    "            ind_map[next_node] -= 1  # 更新邻接点的入度\n",
    "            if ind_map[next_node] == 0: \n",
    "                zero_nodes.append(next_node) # 更新 zero_nodes\n",
    "    \n",
    "    return result if len(result) == len(ind_map) else []"
   ]
  },
  {
   "cell_type": "code",
   "execution_count": 113,
   "metadata": {},
   "outputs": [
    {
     "name": "stdout",
     "output_type": "stream",
     "text": [
      "C F D E B A "
     ]
    }
   ],
   "source": [
    "matrix = [\n",
    "    ['F', 'E'],\n",
    "    ['F', 'D'],\n",
    "    ['E', 'B'],\n",
    "    ['D', 'B'],\n",
    "    ['C', 'A'],\n",
    "    ['C', 'B'],\n",
    "    ['B', 'A'],\n",
    "]\n",
    "graph =generate_graph(matrix)\n",
    "for node in topology(graph):\n",
    "    print(node.val, end=' ')"
   ]
  },
  {
   "attachments": {},
   "cell_type": "markdown",
   "metadata": {},
   "source": [
    "# TEST - 最小生成树 MST"
   ]
  },
  {
   "cell_type": "code",
   "execution_count": 137,
   "metadata": {},
   "outputs": [],
   "source": [
    "class Graph:\n",
    "    def __init__(self):\n",
    "        self.nodes = {}\n",
    "        self.edges = set()\n",
    "class Node:\n",
    "    def __init__(self, val):\n",
    "        self.val = val \n",
    "class Edge:\n",
    "    def __init__(self, fr, to, w):\n",
    "        self.fr = fr \n",
    "        self.to = to \n",
    "        self.w = w # 权值\n",
    "    def __lt__(self, other):\n",
    "        return self.w < other.w"
   ]
  },
  {
   "cell_type": "code",
   "execution_count": 138,
   "metadata": {},
   "outputs": [],
   "source": [
    "# [n1, n2, w] 双向边\n",
    "def generate_graph(matrix):\n",
    "    graph = Graph()\n",
    "    for edge in matrix:\n",
    "        n1, n2, w = edge \n",
    "        if n1 not in graph.nodes:\n",
    "            graph.nodes[n1] = Node(n1)\n",
    "        if n2 not in graph.nodes:\n",
    "            graph.nodes[n2] = Node(n2)\n",
    "        # 获取节点\n",
    "        n1_node, n2_node = graph.nodes.get(n1), graph.nodes.get(n2)\n",
    "        # 创建边, 两条!\n",
    "        e1, e2 = Edge(n1_node, n2_node, w), Edge(n2_node, n1_node, w)\n",
    "        # 添加边, 两个节点都要!\n",
    "        graph.edges.add(e1); graph.edges.add(e2)\n",
    "    return graph\n"
   ]
  },
  {
   "attachments": {},
   "cell_type": "markdown",
   "metadata": {},
   "source": [
    "## Kruskal"
   ]
  },
  {
   "cell_type": "code",
   "execution_count": 139,
   "metadata": {},
   "outputs": [],
   "source": [
    "class SimpleUnionFind:\n",
    "    def __init__(self, nodes):\n",
    "        # key 是某个集合中的一个代表性节点, 随意\n",
    "        # value 是节点集合, 表示这些节点都是同一个集合\n",
    "        self.set_map = {}\n",
    "        # 为每一个节点都创建一个集合, 此时每个节点都不连通\n",
    "        for node in nodes:\n",
    "            _set = set()\n",
    "            _set.add(node)\n",
    "            self.set_map[node] = _set\n",
    "\n",
    "    def is_same_set(self, fr, to):\n",
    "        fr_set = self.set_map.get(fr)\n",
    "        to_set = self.set_map.get(to)\n",
    "        return fr_set == to_set\n",
    "\n",
    "    def union(self, fr, to):\n",
    "        fr_set = self.set_map.get(fr)\n",
    "        to_set = self.set_map.get(to)\n",
    "        for to_node in to_set:\n",
    "            fr_set.add(to_node)\n",
    "            # 以后访问 to_set 中的每一个节点 to_node 时, 都是发现 to_node 和 fr_set 中的节点相同, 即属于同一个集合\n",
    "            self.set_map[to_node] = fr_set\n"
   ]
  },
  {
   "cell_type": "code",
   "execution_count": 140,
   "metadata": {},
   "outputs": [],
   "source": [
    "from queue import PriorityQueue\n",
    "\n",
    "def kruskal(graph):\n",
    "    # 为图中每一个节点都生成属于自己的集合\n",
    "    union_find = SimpleUnionFind(graph.nodes.values())\n",
    "    # 优先级队列, 按权值从小到大顺序存储图的边\n",
    "    priority_queue = PriorityQueue()\n",
    "    for edge in graph.edges:\n",
    "        priority_queue.put((edge))\n",
    "    mst = set() # 生成树\n",
    "    while not priority_queue.empty():\n",
    "        # 每次取出最小边\n",
    "        edge = priority_queue.get()\n",
    "        # 判断该边是否会导致生成树成环\n",
    "        if not union_find.is_same_set(edge.fr, edge.to):\n",
    "            # 不成环, 可以添加该边。\n",
    "            mst.add(edge)\n",
    "            # 加入该边后, 要将两段节点合并为一个集合\n",
    "            union_find.union(edge.fr, edge.to)\n",
    "    return mst "
   ]
  },
  {
   "cell_type": "code",
   "execution_count": 145,
   "metadata": {},
   "outputs": [
    {
     "name": "stdout",
     "output_type": "stream",
     "text": [
      "1\n",
      "2\n"
     ]
    }
   ],
   "source": [
    "matrix = [\n",
    "    ['B', 'C', 3],\n",
    "    ['A', 'B', 1],\n",
    "    ['A', 'C', 2],\n",
    "]\n",
    "graph = generate_graph(matrix)\n",
    "mst_edges = kruskal(graph)\n",
    "for edge in mst_edges:\n",
    "    print(edge.w)"
   ]
  },
  {
   "attachments": {},
   "cell_type": "markdown",
   "metadata": {},
   "source": [
    "# TEST - Dijkstra 算法 - 最短路径"
   ]
  },
  {
   "cell_type": "code",
   "execution_count": null,
   "metadata": {},
   "outputs": [],
   "source": []
  }
 ],
 "metadata": {
  "kernelspec": {
   "display_name": "Python 3",
   "language": "python",
   "name": "python3"
  },
  "language_info": {
   "codemirror_mode": {
    "name": "ipython",
    "version": 3
   },
   "file_extension": ".py",
   "mimetype": "text/x-python",
   "name": "python",
   "nbconvert_exporter": "python",
   "pygments_lexer": "ipython3",
   "version": "3.11.0"
  },
  "orig_nbformat": 4
 },
 "nbformat": 4,
 "nbformat_minor": 2
}
