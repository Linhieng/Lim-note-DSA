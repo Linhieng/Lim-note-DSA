{
 "cells": [
  {
   "attachments": {},
   "cell_type": "markdown",
   "metadata": {},
   "source": [
    "# 创建自己的图结构"
   ]
  },
  {
   "cell_type": "code",
   "execution_count": 10,
   "metadata": {},
   "outputs": [],
   "source": [
    "from typing import List, Mapping, Any, Set\n",
    "\n",
    "\n",
    "class Graph:\n",
    "    def __init__(self):\n",
    "        # key 是该节点的唯一标识。 key 等于待转换的图结构中节点的表示方式, 比如其他图中节点的表示方式是 1,2,3, 或者 'A', 'B', 'C', 那么 key 就是对应的值\n",
    "        # value 是具体的节点。 value 就是我们利用待转换的图结构中的节点, 所创建出来的属于我们自己结构的节点。\n",
    "        self.nodes: Mapping[Any, Node] = {}\n",
    "        self.edges: Set[Edge] = set()\n",
    "\n",
    "\n",
    "class Node:\n",
    "    def __init__(self, val):\n",
    "        self.val = val\n",
    "        self.ind = 0\n",
    "        self.outd = 0\n",
    "        self.nexts: List[Node] = []\n",
    "        self.edges: List[Edge] = []\n",
    "\n",
    "\n",
    "class Edge:\n",
    "    def __init__(self, fr: Node, to: Node, weight=0):\n",
    "        self.fr = fr\n",
    "        self.to = to\n",
    "        self.weight = weight\n"
   ]
  },
  {
   "cell_type": "code",
   "execution_count": null,
   "metadata": {},
   "outputs": [],
   "source": [
    "\"\"\" 支持的结构:\n",
    "matrix = [\n",
    "    [权值, fr节点, to节点], # 单向边: \n",
    "]\n",
    "\"\"\"\n",
    "def generate_graph2(matrix: List[List[int]]):\n",
    "    graph = Graph()\n",
    "    for item in matrix: # 每一个 item 都是一条边\n",
    "        weight, fr, to = item # \n",
    "        # 判断边的两个节点是否已存在, 不存在则新增\n",
    "        if fr not in graph.nodes:\n",
    "            graph.nodes[fr] = Node(fr)\n",
    "        if to not in graph.nodes:\n",
    "            graph.nodes[to] = Node(to)\n",
    "        # 不管节点存不存在, 新的边肯定是要添加的, 节点的属性也是要更新的\n",
    "        fr_node = graph.nodes.get(fr)\n",
    "        to_node = graph.nodes.get(to)\n",
    "        new_edge = Edge(fr_node, to_node, weight)\n",
    "        graph.edges.add(new_edge) # 新的边\n",
    "        fr_node.edges.append(new_edge) # fr 增加一个邻接边\n",
    "        fr_node.nexts.append(to_node) # fr 增加一个邻接点\n",
    "        fr_node.outd += 1 # fr 的出度 + 1\n",
    "        to_node.ind += 1  # to 的入度 + 1\n",
    "    return graph"
   ]
  },
  {
   "cell_type": "code",
   "execution_count": 11,
   "metadata": {},
   "outputs": [],
   "source": [
    "\"\"\" 支持的结构:\n",
    "matrix = [\n",
    "    [节点, 节点], # 双向边\n",
    "]\n",
    "\"\"\"\n",
    "def generate_graph(matrix):\n",
    "    graph = Graph()\n",
    "    for one_edge in matrix:\n",
    "        n1, n2 = one_edge # 双向边\n",
    "        # 添加新节点\n",
    "        if n1 not in graph.nodes:\n",
    "            graph.nodes[n1] = Node(n1)\n",
    "        if n2 not in graph.nodes:\n",
    "            graph.nodes[n2] = Node(n2)\n",
    "        n1_node, n2_node = graph.nodes.get(n1), graph.nodes.get(n2)\n",
    "        e1, e2 = Edge(n1_node, n2_node), Edge(n2_node, n1_node)\n",
    "        # 添加边\n",
    "        graph.edges.add(e1)\n",
    "        graph.edges.add(e2)\n",
    "        n1_node.edges.append(e1)\n",
    "        n2_node.edges.append(e2)\n",
    "        # 更新节点属性\n",
    "        n1_node.nexts.append(n2_node)\n",
    "        n2_node.nexts.append(n1_node)\n",
    "        n1_node.outd += 1\n",
    "        n1_node.ind += 1\n",
    "        n2_node.outd += 1\n",
    "        n2_node.ind += 1\n",
    "    return graph"
   ]
  },
  {
   "attachments": {},
   "cell_type": "markdown",
   "metadata": {},
   "source": [
    "# TEST - 广度优先遍历 BFS"
   ]
  },
  {
   "cell_type": "code",
   "execution_count": 12,
   "metadata": {},
   "outputs": [],
   "source": [
    "from queue import Queue\n",
    "\n",
    "\n",
    "# 广度有限遍历, 先处理好当前节点的所有邻接点, 再去处理邻接点的邻接点。 已经处理过的节点不要再处理。\n",
    "# 利用 queue 保存待处理的节点, 利用 set 保存已经处理过的节点\n",
    "def bfs(node):\n",
    "    if node is None:\n",
    "        return\n",
    "    queue = Queue()\n",
    "    selected_node = set()\n",
    "    queue.put(node)\n",
    "    selected_node.add(node)\n",
    "    while not queue.empty():\n",
    "        n = queue.get()\n",
    "        print(n.val, end=' ')  # 出队列时处理\n",
    "        # 处理完后, 先处理该节点的所有邻接点, 所以将他们先全部添加到队列中\n",
    "        for wait_node in n.nexts:\n",
    "            # 处理过的节点不要再处理\n",
    "            if wait_node not in selected_node:\n",
    "                selected_node.add(wait_node)\n",
    "                queue.put(wait_node)\n"
   ]
  },
  {
   "cell_type": "code",
   "execution_count": 13,
   "metadata": {},
   "outputs": [
    {
     "name": "stdout",
     "output_type": "stream",
     "text": [
      "E C A B D F "
     ]
    }
   ],
   "source": [
    "matrix = [\n",
    "    ['A', 'B'],\n",
    "    ['A', 'C'],\n",
    "    ['A', 'D'],\n",
    "    ['B', 'C'],\n",
    "    ['D', 'C'],\n",
    "    ['E', 'C'],\n",
    "    ['D', 'F'],\n",
    "]\n",
    "graph = generate_graph(matrix)\n",
    "bfs(graph.nodes.get('E'))"
   ]
  },
  {
   "attachments": {},
   "cell_type": "markdown",
   "metadata": {},
   "source": [
    "# TEST - 深度优先遍历 DFS"
   ]
  },
  {
   "cell_type": "code",
   "execution_count": 14,
   "metadata": {},
   "outputs": [],
   "source": [
    "# 深度优先, 一直逮着一个往下处理, 没得处理了才回退(出栈)\n",
    "def dfs(node):\n",
    "    stack = []\n",
    "    selected_node = set()\n",
    "    stack.append(node)\n",
    "    print(node.val, end=' ')  # 处理时刻\n",
    "    selected_node.add(node)  # 处理后标记起来\n",
    "\n",
    "    while 0 != len(stack):  # stack 为空说明都被处理过了\n",
    "        n = stack.pop()  # 将处理过的拿走。\n",
    "        # 逮着 n 继续往下处理\n",
    "        for next_node in n.nexts:\n",
    "            if next_node not in selected_node:  # 逮着一个没处理过的\n",
    "                stack.append(n)  # 此时还无法确定 n 的 nexts 都处理过了, 所以重新将 n 压栈\n",
    "                stack.append(next_node)  # 拿到 stack 等待处理\n",
    "                print(next_node.val, end=' ')  # 处理时刻\n",
    "                selected_node.add(next_node)  # 处理后标记\n",
    "                break  # 逮着一个就马上处理, 这才是 \"深度优先\"\n"
   ]
  },
  {
   "cell_type": "code",
   "execution_count": 17,
   "metadata": {},
   "outputs": [
    {
     "name": "stdout",
     "output_type": "stream",
     "text": [
      "A B D E C "
     ]
    }
   ],
   "source": [
    "matrix = [\n",
    "    ['A', 'B'],\n",
    "    ['A', 'C'],\n",
    "    ['B', 'D'],\n",
    "    ['B', 'E'],\n",
    "]\n",
    "graph = generate_graph(matrix)\n",
    "dfs(graph.nodes.get('A'))"
   ]
  },
  {
   "attachments": {},
   "cell_type": "markdown",
   "metadata": {},
   "source": [
    "# TEST - 拓扑排序"
   ]
  },
  {
   "cell_type": "code",
   "execution_count": null,
   "metadata": {},
   "outputs": [],
   "source": []
  },
  {
   "attachments": {},
   "cell_type": "markdown",
   "metadata": {},
   "source": [
    "# TEST - 最小生成树 MST"
   ]
  },
  {
   "cell_type": "code",
   "execution_count": null,
   "metadata": {},
   "outputs": [],
   "source": []
  },
  {
   "attachments": {},
   "cell_type": "markdown",
   "metadata": {},
   "source": [
    "# TEST - Dijkstra 算法 - 最短路径"
   ]
  },
  {
   "cell_type": "code",
   "execution_count": null,
   "metadata": {},
   "outputs": [],
   "source": []
  }
 ],
 "metadata": {
  "kernelspec": {
   "display_name": "Python 3",
   "language": "python",
   "name": "python3"
  },
  "language_info": {
   "codemirror_mode": {
    "name": "ipython",
    "version": 3
   },
   "file_extension": ".py",
   "mimetype": "text/x-python",
   "name": "python",
   "nbconvert_exporter": "python",
   "pygments_lexer": "ipython3",
   "version": "3.11.0"
  },
  "orig_nbformat": 4
 },
 "nbformat": 4,
 "nbformat_minor": 2
}
