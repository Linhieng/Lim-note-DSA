{
 "cells": [
  {
   "cell_type": "code",
   "execution_count": 7,
   "metadata": {},
   "outputs": [],
   "source": [
    "from queue import Queue\n",
    "from random import randint as r\n",
    "from time import time as t\n",
    "\n",
    "class TreeNode:\n",
    "    def __init__(self, x):\n",
    "        self.val = x\n",
    "        self.left = None\n",
    "        self.right = None"
   ]
  },
  {
   "cell_type": "code",
   "execution_count": 8,
   "metadata": {},
   "outputs": [],
   "source": [
    "def v(max_value):\n",
    "    return r(-max_value, max_value)\n",
    "\n",
    "\n",
    "def generate_full_binary_tree(deep=3, max_value=10):\n",
    "    if deep < 1:\n",
    "        return None\n",
    "    p = root = TreeNode(v(max_value))\n",
    "    # 先在纸上画出你想要的创建过程, 然后尝试将它 coding, coding 出来后再整理出核心内容\n",
    "    # 利用栈结构创建满二叉树。\n",
    "    # 核心: 每一个节点都会放入栈中判断, 只有当节点满足以下要求时才允许将该节点弹出。\n",
    "    #       对于叶节点, 可以直接弹出。 判断是否是叶子节点的方式是当前节点的深度是否满足\n",
    "    #       对于非叶节点, 要求其左右两个子节点都不为空。\n",
    "    # 栈的长度就是二叉树的深度\n",
    "    stack = []\n",
    "    stack.append(p)\n",
    "    while len(stack) != 0:\n",
    "        p = stack[-1]\n",
    "        if len(stack) >= deep:\n",
    "            # 达到深度, 说明是叶节点, 可以出栈\n",
    "            stack.pop()\n",
    "        elif p.left is None:\n",
    "            # 没有左子节点, 则创建左子节点\n",
    "            p.left = TreeNode(v(max_value))\n",
    "            stack.append(p.left)\n",
    "        elif p.right is None:\n",
    "            # 没有右子节点, 则创建右子节点\n",
    "            p.right = TreeNode(v(max_value))\n",
    "            stack.append(p.right)\n",
    "        else:\n",
    "            # 不是叶节点, 同时有两个子节点, 可以出栈\n",
    "            stack.pop()\n",
    "    return root\n",
    "\n",
    "\n",
    "def generate_random_binary_tree(deep=3, max_value=10):\n",
    "    if deep < 1:\n",
    "        return None\n",
    "    p = root = TreeNode(v(max_value))\n",
    "    stack = []\n",
    "    stack.append(p)\n",
    "    while len(stack) != 0:\n",
    "        p = stack[-1]\n",
    "        if r(0,9) == 1 and len(stack) >= deep:\n",
    "            # 达到深度, 说明是叶节点, 可以出栈\n",
    "            stack.pop()\n",
    "        elif r(0,1) == 1 and p.left is None:\n",
    "            # 没有左子节点, 则创建左子节点\n",
    "            p.left = TreeNode(v(max_value))\n",
    "            stack.append(p.left)\n",
    "        elif r(0,1) == 1 and p.right is None:\n",
    "            # 没有右子节点, 则创建右子节点\n",
    "            p.right = TreeNode(v(max_value))\n",
    "            stack.append(p.right)\n",
    "        else:\n",
    "            # 不是叶节点, 同时有两个子节点, 可以出栈。 或者\"中奖\"了, 也可以出栈\n",
    "            stack.pop()\n",
    "    return root\n",
    "\n",
    "\n",
    "def generate_binary_tree(max_deep=10, max_value=20):\n",
    "    deep = r(0, max_deep)\n",
    "    if deep == 0:\n",
    "        return None\n",
    "    if deep == 1:\n",
    "        return TreeNode(v(max_value))\n",
    "\n",
    "    if r(0, 5) < 1:\n",
    "        # 生成满二叉树\n",
    "        return generate_full_binary_tree(deep, max_value)\n",
    "    else:\n",
    "        # 随机生成二叉树\n",
    "        return generate_random_binary_tree(deep, max_value)\n"
   ]
  },
  {
   "attachments": {},
   "cell_type": "markdown",
   "metadata": {},
   "source": [
    "# TEST - 二叉树(非)递归序"
   ]
  },
  {
   "attachments": {},
   "cell_type": "markdown",
   "metadata": {},
   "source": [
    "## 实现"
   ]
  },
  {
   "cell_type": "code",
   "execution_count": 9,
   "metadata": {},
   "outputs": [],
   "source": [
    "def recursion_binary_tree(root, order, print_arr):\n",
    "    if root is None:\n",
    "        return\n",
    "    if order == 'pre':\n",
    "        print_arr.append(root.val)\n",
    "\n",
    "    if root.left is not None:\n",
    "        recursion_binary_tree(root.left, order, print_arr)\n",
    "    if order == 'in':\n",
    "        print_arr.append(root.val)\n",
    "\n",
    "    if root.right is not None:\n",
    "        recursion_binary_tree(root.right, order, print_arr)\n",
    "    if order == 'pos':\n",
    "        print_arr.append(root.val)\n",
    "\n",
    "\n",
    "def no_recursion_binary_tree(root, order, print_arr):\n",
    "    if root is None:\n",
    "        return\n",
    "    \"\"\"\n",
    "    递归, 无非就是利用了栈, 既然是非递归, 那就自己定义栈。\n",
    "    利用栈遍历时, 不管是哪种情况遍历方式, 第一步肯定是要将 \"头\" 入栈的。\n",
    "    因为, 如果你第一步先将一个子节点入栈, 那么你就会丢失另一个子节点的信息。 除非你用一个新变量保存头。\n",
    "    \"\"\"\n",
    "    if order == 'pre':\n",
    "        pre_order_binary_tree(root, print_arr)\n",
    "    elif order == 'in':\n",
    "        in_order_binary_tree(root, print_arr)\n",
    "    else:\n",
    "        pos_order_binary_tree(root, print_arr)\n",
    "\n",
    "\n",
    "def pre_order_binary_tree(root, print_arr):\n",
    "    \"\"\"\n",
    "    前序遍历, 即对每一棵子树都以 \"头左右\" 的方式遍历\n",
    "    利用栈来遍历的方法, 就是用一个 \"头\", 换两个 \"子\"。\n",
    "          就是头出栈时, 将两个子节点入栈。 在这里, 出栈时是特殊时机\n",
    "          之后这两个子节点也会以 \"头\" 的形式出栈\n",
    "          所以我们需要先压 \"右\", 再压 \"左\", \n",
    "    \"\"\"\n",
    "    stack = [root]\n",
    "    while len(stack) != 0:\n",
    "        # 先 \"头\", 所以先出栈\n",
    "        head = stack.pop()\n",
    "        print_arr.append(head.val)\n",
    "        # 再 \"左右\", 因为是出栈才获取到节点, 所以需要先压右, 再压左\n",
    "        if head.right is not None:\n",
    "            stack.append(head.right)\n",
    "        if head.left is not None:\n",
    "            stack.append(head.left)\n",
    "\n",
    "\n",
    "def in_order_binary_tree(root, print_arr):\n",
    "    stack = []\n",
    "    p = root\n",
    "    while len(stack) != 0 or p is not None:\n",
    "        if p is not None:\n",
    "            # 不断将左边界压栈\n",
    "            stack.append(p)\n",
    "            p = p.left\n",
    "        else:\n",
    "            # 左边界压完了, 则弹出一个左元素, 同时指针指向弹出元素的右边界, 让右边界继续进行\"左边界\"压栈\n",
    "            p = stack.pop()\n",
    "            print_arr.append(p.val)\n",
    "            p = p.right\n",
    "\n",
    "\n",
    "def pos_order_binary_tree(root, print_arr):\n",
    "    p = root\n",
    "    stack = [root]\n",
    "    collect = [] # 收集要要打印的元素\n",
    "    while len(stack) != 0:\n",
    "        p = stack.pop()\n",
    "        collect.append(p)\n",
    "        if p.left is not None:\n",
    "            stack.append(p.left)\n",
    "        if p.right is not None:\n",
    "            stack.append(p.right)\n",
    "\n",
    "    while len(collect) != 0:\n",
    "        print_arr.append(collect.pop().val)\n",
    "\n"
   ]
  },
  {
   "attachments": {},
   "cell_type": "markdown",
   "metadata": {},
   "source": [
    "## 测试"
   ]
  },
  {
   "cell_type": "code",
   "execution_count": 10,
   "metadata": {},
   "outputs": [
    {
     "name": "stdout",
     "output_type": "stream",
     "text": [
      "(非)递归遍历: ✔️\n"
     ]
    }
   ],
   "source": [
    "test_time = 5_000\n",
    "max_size = 10\n",
    "max_value = 2000\n",
    "succeed = True\n",
    "\n",
    "for i in range(test_time):\n",
    "    root = generate_binary_tree(max_size, max_value)\n",
    "    pre1, pre2 = [], []\n",
    "    recursion_binary_tree(root, 'pre', pre1)\n",
    "    no_recursion_binary_tree(root, 'pre', pre2)\n",
    "    in1, in2 = [], []\n",
    "    recursion_binary_tree(root, 'in', in1)\n",
    "    no_recursion_binary_tree(root, 'in', in2)\n",
    "    pos1, pos2 = [], []\n",
    "    recursion_binary_tree(root, 'pos', pos1)\n",
    "    no_recursion_binary_tree(root, 'pos', pos2)\n",
    "\n",
    "    if pre1 != pre2 or in1 != in2 or pos1 != pos2:\n",
    "        succeed = False\n",
    "        break\n",
    "\n",
    "print('(非)递归遍历:', '✔️' if succeed else '❌')\n"
   ]
  },
  {
   "attachments": {},
   "cell_type": "markdown",
   "metadata": {},
   "source": [
    "# TEST - 二叉树宽度遍历"
   ]
  },
  {
   "attachments": {},
   "cell_type": "markdown",
   "metadata": {},
   "source": [
    "## 实现"
   ]
  },
  {
   "cell_type": "code",
   "execution_count": 11,
   "metadata": {},
   "outputs": [],
   "source": [
    "def binary_tree_traversal(root):\n",
    "    if root is None:\n",
    "        return\n",
    "    queue = Queue()\n",
    "    queue.put(root)\n",
    "    while not queue.empty():\n",
    "        cur = queue.get()\n",
    "        print(cur.val)\n",
    "        if cur.left is not None:\n",
    "            queue.put(cur.left)\n",
    "        if cur.right is not None:\n",
    "            queue.put(cur.right)"
   ]
  },
  {
   "attachments": {},
   "cell_type": "markdown",
   "metadata": {},
   "source": [
    "# TEST - 二叉树最大宽度"
   ]
  },
  {
   "attachments": {},
   "cell_type": "markdown",
   "metadata": {},
   "source": [
    "## 实现"
   ]
  },
  {
   "cell_type": "code",
   "execution_count": 12,
   "metadata": {},
   "outputs": [],
   "source": [
    "def binary_tree_max_width(root):\n",
    "    max_w = 0\n",
    "    if root is None:\n",
    "        return max_w\n",
    "\n",
    "    queue = Queue()  # 利用队列实现层级遍历\n",
    "    queue.put(root)  # 队列初始值为根节点。 后续通过判断队列是否为空来退出循环\n",
    "    cur_end = root  # 当前层的最后节点\n",
    "    next_end = None  # 下一层的最后节点\n",
    "    cur_w = 0 # 当前层节点数量\n",
    "\n",
    "    while not queue.empty(): # 队列为空, 则遍历完毕\n",
    "        # 每次都弹出一个元素\n",
    "        cur = queue.get()\n",
    "        cur_w += 1\n",
    "        # 弹出一个元素的同时, 按从左到右的次序依次将子节点放入队列中\n",
    "        if cur.left is not None:\n",
    "            next_end = cur.left # 下一层的最后节点在加入子节点的过程中产出, 谁留到最后谁就是下层最后节点\n",
    "            queue.put(cur.left)\n",
    "        if cur.right is not None:\n",
    "            next_end = cur.right\n",
    "            queue.put(cur.right)\n",
    "        # 判断弹出的元素是否是当前层最后节点\n",
    "        if cur is cur_end:\n",
    "            # 如果是, 则整理当前层信息\n",
    "            max_w = max(max_w, cur_w)\n",
    "            # 同时准备下一层信息\n",
    "            cur_w = 0\n",
    "            cur_end = next_end\n",
    "            next_end = None\n",
    "\n",
    "    return max_w"
   ]
  },
  {
   "attachments": {},
   "cell_type": "markdown",
   "metadata": {},
   "source": [
    "## 测试"
   ]
  },
  {
   "cell_type": "code",
   "execution_count": 13,
   "metadata": {},
   "outputs": [
    {
     "data": {
      "text/plain": [
       "4"
      ]
     },
     "execution_count": 13,
     "metadata": {},
     "output_type": "execute_result"
    }
   ],
   "source": [
    "root = TreeNode(1)\n",
    "root.left = TreeNode(2)\n",
    "root.right = TreeNode(3)\n",
    "root.left.left = TreeNode(4)\n",
    "root.left.right = TreeNode(5)\n",
    "root.right.left = TreeNode(6)\n",
    "root.right.right = TreeNode(7)\n",
    "\n",
    "binary_tree_max_width(root)"
   ]
  },
  {
   "attachments": {},
   "cell_type": "markdown",
   "metadata": {},
   "source": [
    "# 刷题"
   ]
  },
  {
   "attachments": {},
   "cell_type": "markdown",
   "metadata": {},
   "source": [
    "## [返回二叉树层序遍历的结果](https://www.nowcoder.com/practice/04a5560e43e24e9db4595865dc9c63a3)"
   ]
  },
  {
   "cell_type": "code",
   "execution_count": 60,
   "metadata": {},
   "outputs": [],
   "source": [
    "\n",
    "def level_order(root):\n",
    "    if root is None:\n",
    "        return []\n",
    "\n",
    "    queue = Queue()\n",
    "    queue.put(root)\n",
    "\n",
    "    curEnd = root # 当前层的最后节点\n",
    "    nextEnd = None  # 下一层的最后节点\n",
    "    curNodes = [] # 当前层所有节点\n",
    "    res = []\n",
    "    \n",
    "    while not queue.empty():\n",
    "        # 弹出元素\n",
    "        cur = queue.get()\n",
    "        curNodes.append(cur.val)\n",
    "\n",
    "        if cur.left is not None:\n",
    "            # 每次加入新元素时, 更新 nextEnd\n",
    "            nextEnd = cur.left\n",
    "            queue.put(cur.left)\n",
    "\n",
    "        if cur.right is not None:\n",
    "            nextEnd = cur.right\n",
    "            queue.put(cur.right)\n",
    "\n",
    "        # 判断弹出的元素是否是当前层的最后节点\n",
    "        if cur is curEnd:\n",
    "            # 当前层遍历结束\n",
    "            curEnd = nextEnd\n",
    "            nextEnd = None\n",
    "            res.append(curNodes)\n",
    "            curNodes = []\n",
    "\n",
    "\n",
    "    return res"
   ]
  },
  {
   "cell_type": "code",
   "execution_count": 43,
   "metadata": {},
   "outputs": [],
   "source": [
    "\n",
    "def level_order2(root):\n",
    "    res = []\n",
    "    if root is None:\n",
    "        return res\n",
    "    res.append([])\n",
    "    queue = Queue()\n",
    "    queue.put(root)\n",
    "    level_map = {} # 保存各节点层数信息\n",
    "    level_map[root] = 1\n",
    "    cur_level = 1 # 初始层级是 1\n",
    "    \n",
    "    while not queue.empty():\n",
    "        cur = queue.get()\n",
    "\n",
    "        if level_map[cur] != cur_level: # 已进入下一层\n",
    "            cur_level += 1 # 更新层数\n",
    "            res.append([cur.val]) # 存储新层级的节点\n",
    "        else: # 还在当前层\n",
    "            res[len(res)-1].append(cur.val)\n",
    "\n",
    "        if cur.left is not None:\n",
    "            level_map[cur.left] = level_map[cur] +1\n",
    "            queue.put(cur.left)\n",
    "        if cur.right is not None:\n",
    "            level_map[cur.right] = level_map[cur] +1\n",
    "            queue.put(cur.right)\n",
    "\n",
    "    return res"
   ]
  },
  {
   "cell_type": "code",
   "execution_count": 44,
   "metadata": {},
   "outputs": [
    {
     "data": {
      "text/plain": [
       "[[1], [2, 3], [4, 5, 6, 7]]"
      ]
     },
     "execution_count": 44,
     "metadata": {},
     "output_type": "execute_result"
    }
   ],
   "source": [
    "root = TreeNode(1)\n",
    "root.left = TreeNode(2)\n",
    "root.right = TreeNode(3)\n",
    "root.left.left = TreeNode(4)\n",
    "root.left.right = TreeNode(5)\n",
    "root.right.left = TreeNode(6)\n",
    "root.right.right = TreeNode(7)\n",
    "\n",
    "level_order2(root)"
   ]
  }
 ],
 "metadata": {
  "kernelspec": {
   "display_name": "Python 3",
   "language": "python",
   "name": "python3"
  },
  "language_info": {
   "codemirror_mode": {
    "name": "ipython",
    "version": 3
   },
   "file_extension": ".py",
   "mimetype": "text/x-python",
   "name": "python",
   "nbconvert_exporter": "python",
   "pygments_lexer": "ipython3",
   "version": "3.11.0"
  },
  "orig_nbformat": 4
 },
 "nbformat": 4,
 "nbformat_minor": 2
}
