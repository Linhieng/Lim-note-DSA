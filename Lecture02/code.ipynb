{
 "cells": [
  {
   "cell_type": "code",
   "execution_count": 1,
   "metadata": {},
   "outputs": [],
   "source": [
    "import random\n",
    "\n",
    "\n",
    "def generateRandomArray(maxSize, maxValue):\n",
    "    arr = [random.randint(-maxValue, maxValue) for _ in range(maxSize)]\n",
    "    return arr\n",
    "\n",
    "\n",
    "def copyArray(arr):\n",
    "    newArr = [*arr]\n",
    "    return newArr\n",
    "\n",
    "\n",
    "def isEqual(arr1, arr2):\n",
    "    for i, a1 in enumerate(arr1):\n",
    "        if a1 != arr2[i]:\n",
    "            return False\n",
    "    return True\n",
    "\n",
    "\n",
    "def swap(arr, i, j):\n",
    "    arr[i], arr[j] = arr[j], arr[i]"
   ]
  },
  {
   "attachments": {},
   "cell_type": "markdown",
   "metadata": {},
   "source": [
    "## 递归实现求数组的最大值"
   ]
  },
  {
   "cell_type": "code",
   "execution_count": 2,
   "metadata": {},
   "outputs": [],
   "source": [
    "def getMax(arr, L, R):\n",
    "    if L == R:\n",
    "        return arr[L]\n",
    "    \n",
    "    mid = L + ((R-L) >> 1)\n",
    "    leftMax = getMax(arr, L, mid)\n",
    "    rightMax = getMax(arr, mid+1, R)\n",
    "    return max(leftMax, rightMax)"
   ]
  },
  {
   "attachments": {},
   "cell_type": "markdown",
   "metadata": {},
   "source": [
    "## 递归实现归并排序"
   ]
  },
  {
   "cell_type": "code",
   "execution_count": 3,
   "metadata": {},
   "outputs": [],
   "source": [
    "\n",
    "# 注意这里的 R 是下标, 不是数组长度, 所以传递参数时, 如果计算的是数组长度, 需要将长度 - 1\n",
    "def mergeSort(arr, L, R):\n",
    "    if L == R:\n",
    "        return \n",
    "    mid = L + ((R-L) >> 1)\n",
    "    mergeSort(arr, L, mid)\n",
    "    mergeSort(arr, mid+1, R)\n",
    "    merge(arr, L, mid, R)\n",
    "\n",
    "\n",
    "def merge(arr, L, M, R):\n",
    "    help = [0] * (R - L + 1)\n",
    "    i = 0\n",
    "    p1 = L\n",
    "    p2 = M+1\n",
    "\n",
    "    while p1 <= M and p2 <= R:\n",
    "        if arr[p1] <= arr[p2]:\n",
    "            help[i] = arr[p1]\n",
    "            p1 += 1\n",
    "        else:\n",
    "            help[i] = arr[p2]\n",
    "            p2 += 1\n",
    "        i += 1\n",
    "    while p1 <= M:\n",
    "        help[i] = arr[p1]\n",
    "        i += 1\n",
    "        p1 += 1\n",
    "    while p2 <= R:\n",
    "        help[i] = arr[p2]\n",
    "        i += 1\n",
    "        p2 += 1\n",
    "    for i in range(0, len(help)):\n",
    "        arr[L+i] = help[i]"
   ]
  },
  {
   "attachments": {},
   "cell_type": "markdown",
   "metadata": {},
   "source": [
    "## 归并排序解决小和问题"
   ]
  },
  {
   "cell_type": "code",
   "execution_count": 4,
   "metadata": {},
   "outputs": [],
   "source": [
    "\n",
    "def smallSum(arr, L, R):\n",
    "    if L == R:\n",
    "        return 0\n",
    "    mid = L + ((R-L) >> 1)\n",
    "    return (smallSum(arr, L, mid)\n",
    "            + smallSum(arr, mid+1, R)\n",
    "            + merge_and_sum(arr, L, mid, R))\n",
    "\n",
    "\n",
    "def merge_and_sum(arr, L, M, R):\n",
    "    help = [0] * (R - L + 1)\n",
    "    i = 0\n",
    "    p1 = L\n",
    "    p2 = M+1\n",
    "    res = 0\n",
    "\n",
    "    while p1 <= M and p2 <= R:\n",
    "        if arr[p1] < arr[p2]:\n",
    "            \n",
    "            num = R - p2 + 1\n",
    "            res += arr[p1] * num\n",
    "\n",
    "            help[i] = arr[p1]\n",
    "            p1 += 1\n",
    "        else:\n",
    "            help[i] = arr[p2]\n",
    "            p2 += 1\n",
    "        i += 1\n",
    "    while p1 <= M:\n",
    "        help[i] = arr[p1]\n",
    "        i += 1\n",
    "        p1 += 1\n",
    "    while p2 <= R:\n",
    "        help[i] = arr[p2]\n",
    "        i += 1\n",
    "        p2 += 1\n",
    "    for i in range(0, len(help)):\n",
    "        arr[L+i] = help[i]\n",
    "\n",
    "    return res"
   ]
  },
  {
   "cell_type": "code",
   "execution_count": 5,
   "metadata": {},
   "outputs": [],
   "source": [
    "def comparator_small_sum(arr):\n",
    "    small_sum = 0  # 记录小和的累加值\n",
    "\n",
    "    for i in range(len(arr)):\n",
    "        for j in range(i):\n",
    "            if arr[j] < arr[i]:\n",
    "                small_sum += arr[j]\n",
    "    \n",
    "    return small_sum"
   ]
  },
  {
   "attachments": {},
   "cell_type": "markdown",
   "metadata": {},
   "source": [
    "## 二项划分"
   ]
  },
  {
   "cell_type": "code",
   "execution_count": 6,
   "metadata": {},
   "outputs": [],
   "source": [
    "def two_partition(arr, num):\n",
    "    l = len(arr)\n",
    "    less = -1\n",
    "\n",
    "    for i in range(l):\n",
    "        if arr[i] == num:\n",
    "            swap(arr, i, len(arr)-1)\n",
    "            break\n",
    "\n",
    "    for i in range(l):\n",
    "        if arr[i] <= num:\n",
    "            less += 1\n",
    "            swap(arr, less, i)\n"
   ]
  },
  {
   "cell_type": "code",
   "execution_count": 7,
   "metadata": {},
   "outputs": [],
   "source": [
    "def verify_two_partition(arr, num):\n",
    "    # 遍历数组，找到 num 的位置\n",
    "    idx = None\n",
    "    for i in range(len(arr)-1, -1, -1):\n",
    "        if arr[i] == num:\n",
    "            idx = i\n",
    "            break\n",
    "\n",
    "    # 如果未找到 num，则返回 False\n",
    "    if idx is None:\n",
    "        return False\n",
    "\n",
    "    # 检查左侧元素是否都小于等于 num\n",
    "    if idx != 0 and max(arr[:idx]) > num:\n",
    "        return False\n",
    "\n",
    "    # 检查右侧元素是否都大于 num\n",
    "    if idx < len(arr)-2 and min(arr[idx+1:]) <= num:\n",
    "        return False\n",
    "\n",
    "    # 如果通过上述检查，则返回 True\n",
    "    return True"
   ]
  },
  {
   "attachments": {},
   "cell_type": "markdown",
   "metadata": {},
   "source": [
    "## 三项划分"
   ]
  },
  {
   "cell_type": "code",
   "execution_count": 8,
   "metadata": {},
   "outputs": [],
   "source": [
    "def three_partition(arr, num):\n",
    "    L = 0\n",
    "    R = len(arr) - 1\n",
    "    less = -1\n",
    "    more = R\n",
    "\n",
    "    for i in range(len(arr)):\n",
    "        if arr[i] == num:\n",
    "            swap(arr, i, len(arr)-1)\n",
    "            break\n",
    "\n",
    "    while L < more:\n",
    "        if arr[L] < arr[R]:\n",
    "            less += 1\n",
    "            swap(arr, less, L)\n",
    "            L += 1\n",
    "        elif arr[L] > arr[R]:\n",
    "            more -= 1\n",
    "            swap(arr, more, L)\n",
    "        else:\n",
    "            L += 1\n",
    "    \n",
    "    swap(arr, more, R)\n"
   ]
  },
  {
   "cell_type": "code",
   "execution_count": 9,
   "metadata": {},
   "outputs": [],
   "source": [
    "def verify_three_partition(arr, num):\n",
    "    # 遍历数组，找到 num 的位置\n",
    "    l = None\n",
    "    r = None\n",
    "    for i in range(len(arr)):\n",
    "        if arr[i] == num:\n",
    "            l = i\n",
    "            r = i\n",
    "            while r < len(arr) and arr[r] == num:\n",
    "                r += 1\n",
    "            break\n",
    "\n",
    "    # 如果未找到 num，则返回 False\n",
    "    if l is None:\n",
    "        return False\n",
    "\n",
    "    # 检查左侧元素是否都小于 num\n",
    "    if l != 0 and max(arr[:l]) > num:\n",
    "        return False\n",
    "\n",
    "    # 检查右侧元素是否都大于 num\n",
    "    if r < len(arr)-2 and min(arr[r+1:]) <= num:\n",
    "        return False\n",
    "\n",
    "    # 如果通过上述检查，则返回 True\n",
    "    return True"
   ]
  },
  {
   "attachments": {},
   "cell_type": "markdown",
   "metadata": {},
   "source": [
    "## 快速排序 1.0"
   ]
  },
  {
   "attachments": {},
   "cell_type": "markdown",
   "metadata": {},
   "source": [
    "## 快速排序 2.0"
   ]
  },
  {
   "attachments": {},
   "cell_type": "markdown",
   "metadata": {},
   "source": [
    "## 快速排序 3.0"
   ]
  },
  {
   "attachments": {},
   "cell_type": "markdown",
   "metadata": {},
   "source": [
    "## TEST"
   ]
  },
  {
   "cell_type": "code",
   "execution_count": 10,
   "metadata": {},
   "outputs": [
    {
     "name": "stdout",
     "output_type": "stream",
     "text": [
      "递归求最大值: ✔️\n"
     ]
    }
   ],
   "source": [
    "testTime = 5000\n",
    "maxSize = 100\n",
    "maxValue = 100\n",
    "succeed = True\n",
    "\n",
    "for i in range(0, testTime):\n",
    "    arr = generateRandomArray(maxSize, maxValue)\n",
    "    test_max = getMax(arr, 0, len(arr)-1)\n",
    "    real_max = max(arr)\n",
    "    if test_max != real_max:\n",
    "        succeed = False\n",
    "        break\n",
    "\n",
    "print('递归求最大值:', '✔️' if succeed else '❌')"
   ]
  },
  {
   "cell_type": "code",
   "execution_count": 11,
   "metadata": {},
   "outputs": [
    {
     "name": "stdout",
     "output_type": "stream",
     "text": [
      "递归实现归并排序: ✔️\n"
     ]
    }
   ],
   "source": [
    "testTime = 5000\n",
    "maxSize = 100\n",
    "maxValue = 100\n",
    "succeed = True\n",
    "\n",
    "for i in range(0, testTime):\n",
    "    arr1 = generateRandomArray(maxSize, maxValue)\n",
    "    arr2 = copyArray(arr1)\n",
    "    test_res = mergeSort(arr1, 0, len(arr1)-1)\n",
    "    real_res = arr2.sort()\n",
    "    if isEqual(arr1, arr2) == False:\n",
    "        succeed = False\n",
    "        break\n",
    "\n",
    "print('递归实现归并排序:', '✔️' if succeed else '❌')"
   ]
  },
  {
   "cell_type": "code",
   "execution_count": 12,
   "metadata": {},
   "outputs": [
    {
     "name": "stdout",
     "output_type": "stream",
     "text": [
      "归并排序解决小和问题: ✔️\n"
     ]
    }
   ],
   "source": [
    "testTime = 5000\n",
    "maxSize = 100\n",
    "maxValue = 100\n",
    "succeed = True\n",
    "\n",
    "for i in range(0, testTime):\n",
    "    arr1 = generateRandomArray(maxSize, maxValue)\n",
    "    arr2 = copyArray(arr1)\n",
    "    test_res = smallSum(arr1, 0, len(arr1)-1)\n",
    "    compare_res = comparator_small_sum(arr2)\n",
    "    if test_res != compare_res:\n",
    "        succeed = False\n",
    "        break\n",
    "\n",
    "print('归并排序解决小和问题:', '✔️' if succeed else '❌')"
   ]
  },
  {
   "cell_type": "code",
   "execution_count": 13,
   "metadata": {},
   "outputs": [
    {
     "name": "stdout",
     "output_type": "stream",
     "text": [
      "二项划分: ✔️\n"
     ]
    }
   ],
   "source": [
    "testTime = 5000\n",
    "maxSize = 10\n",
    "maxValue = 10\n",
    "succeed = True\n",
    "\n",
    "for i in range(0, testTime):\n",
    "    arr1 = generateRandomArray(maxSize, maxValue)\n",
    "    num = random.choice(arr1)\n",
    "\n",
    "    two_partition(arr1, num)\n",
    "\n",
    "    if verify_two_partition(arr1, num) == False:\n",
    "        print(arr1, num)\n",
    "        succeed = False\n",
    "        break\n",
    "\n",
    "print('二项划分:', '✔️' if succeed else '❌')"
   ]
  },
  {
   "cell_type": "code",
   "execution_count": 14,
   "metadata": {},
   "outputs": [
    {
     "name": "stdout",
     "output_type": "stream",
     "text": [
      "三项划分: ✔️\n"
     ]
    }
   ],
   "source": [
    "testTime = 5000\n",
    "maxSize = 10\n",
    "maxValue = 10\n",
    "succeed = True\n",
    "\n",
    "for i in range(0, testTime):\n",
    "    arr1 = generateRandomArray(maxSize, maxValue)\n",
    "    num = random.choice(arr1)\n",
    "\n",
    "    three_partition(arr1, num)\n",
    "\n",
    "    if verify_three_partition(arr1, num) == False:\n",
    "        print(arr1, num)\n",
    "        succeed = False\n",
    "        break\n",
    "\n",
    "print('三项划分:', '✔️' if succeed else '❌')"
   ]
  }
 ],
 "metadata": {
  "kernelspec": {
   "display_name": "Python 3",
   "language": "python",
   "name": "python3"
  },
  "language_info": {
   "codemirror_mode": {
    "name": "ipython",
    "version": 3
   },
   "file_extension": ".py",
   "mimetype": "text/x-python",
   "name": "python",
   "nbconvert_exporter": "python",
   "pygments_lexer": "ipython3",
   "version": "3.11.0"
  },
  "orig_nbformat": 4
 },
 "nbformat": 4,
 "nbformat_minor": 2
}
