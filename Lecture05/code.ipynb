{
 "cells": [
  {
   "attachments": {},
   "cell_type": "markdown",
   "metadata": {},
   "source": [
    "# [搜索二叉树](https://www.nowcoder.com/practice/a69242b39baf45dea217815c7dedb52b)"
   ]
  },
  {
   "attachments": {},
   "cell_type": "markdown",
   "metadata": {},
   "source": [
    "默认传入的 `root` 不是 `None`"
   ]
  },
  {
   "cell_type": "code",
   "execution_count": 2,
   "metadata": {},
   "outputs": [],
   "source": [
    "def is_valid_BST1(root):\n",
    "    # 存储中序遍历的结果\n",
    "    inorder_list = []\n",
    "    inorder(root, inorder_list)\n",
    "    for i in range(1, len(inorder_list)):\n",
    "        if inorder_list[i] <= inorder_list[i-1]:\n",
    "            return False\n",
    "    return True\n",
    "\n",
    "\n",
    "def inorder(root, inorder_list):\n",
    "    if root is None:\n",
    "        return\n",
    "    inorder(root.left, inorder_list)\n",
    "    inorder_list.append(root.val)\n",
    "    inorder(root.right, inorder_list)\n"
   ]
  },
  {
   "cell_type": "code",
   "execution_count": null,
   "metadata": {},
   "outputs": [],
   "source": [
    "def is_valid_BST2(root):\n",
    "    # 传递地址\n",
    "    pre_value = [None]\n",
    "    return process(root, pre_value)\n",
    "\n",
    "\n",
    "def process(root, pre_value):\n",
    "    if root is None:\n",
    "        return True\n",
    "    # 先判断左侧是不是 BST\n",
    "    is_left_BST = process(root.left, pre_value)\n",
    "    if False == is_left_BST:\n",
    "        return False\n",
    "\n",
    "    # 判断是否升序\n",
    "    if pre_value[0] is not None and pre_value[0] >= root.val:\n",
    "        return False\n",
    "    else:\n",
    "        pre_value[0] = root.val\n",
    "\n",
    "    # 接着判断右侧是否是 BST\n",
    "    return process(root.right, pre_value)\n"
   ]
  },
  {
   "cell_type": "code",
   "execution_count": null,
   "metadata": {},
   "outputs": [],
   "source": [
    "def is_valid_BST3(root):\n",
    "    stack = []\n",
    "    p = root\n",
    "    pre_value = None\n",
    "    while len(stack) != 0 or p is not None:\n",
    "        if p is not None:\n",
    "            stack.append(p)\n",
    "            p = p.left\n",
    "        else:\n",
    "            p = stack.pop()\n",
    "            # 判断是否升序\n",
    "            if pre_value is not None and pre_value >= p.val:\n",
    "                return False\n",
    "            else:\n",
    "                pre_value = p.val\n",
    "            p = p.right\n",
    "    return True\n"
   ]
  },
  {
   "cell_type": "code",
   "execution_count": null,
   "metadata": {},
   "outputs": [],
   "source": [
    "def is_valid_BST4(root):\n",
    "    return process(root)[0]\n",
    "\n",
    "\n",
    "def process(x):\n",
    "    if x is None:\n",
    "        return None\n",
    "\n",
    "    x_max = x_min = x.val\n",
    "\n",
    "    l = process(x.left)\n",
    "    if l is not None:\n",
    "        l_is_BST, l_max, l_min = l\n",
    "        if False == l_is_BST or l_max >= x.val:\n",
    "            return (False, None, None)\n",
    "        x_max = max(x_max, l_max)\n",
    "        x_min = min(x_min, l_min)\n",
    "\n",
    "    r = process(x.right)\n",
    "    if r is not None:\n",
    "        r_is_BST, r_max, r_min = r\n",
    "        if False == r_is_BST or x.val >= r_min:\n",
    "            return (False, None, None)\n",
    "        x_max = max(x_max, r_max)\n",
    "        x_min = min(x_min, r_min)\n",
    "\n",
    "    return (True, x_max, x_min)\n"
   ]
  },
  {
   "attachments": {},
   "cell_type": "markdown",
   "metadata": {},
   "source": [
    "# [完全二叉树](https://www.nowcoder.com/practice/8daa4dff9e36409abba2adbe413d6fae)"
   ]
  },
  {
   "cell_type": "code",
   "execution_count": 10,
   "metadata": {},
   "outputs": [],
   "source": [
    "from queue import Queue\n",
    "\n",
    "\n",
    "def is_complete_tree(root):\n",
    "    queue = Queue()\n",
    "    queue.put(root)\n",
    "    check_leaf_flag = False\n",
    "    while not queue.empty():\n",
    "        p = queue.get()\n",
    "        l = p.left\n",
    "        r = p.right\n",
    "\n",
    "        if (\n",
    "            (r is not None and l is None)  # 条件1\n",
    "            or\n",
    "            (check_leaf_flag and (l is not None or r is not None))  # 条件2\n",
    "        ):\n",
    "            return False\n",
    "\n",
    "        queue.put(l) if l is not None else None\n",
    "        queue.put(r) if r is not None else None\n",
    "\n",
    "        if r is None:\n",
    "            check_leaf_flag = True\n",
    "    return True\n"
   ]
  },
  {
   "attachments": {},
   "cell_type": "markdown",
   "metadata": {},
   "source": [
    "# TEST - 满二叉树"
   ]
  },
  {
   "attachments": {},
   "cell_type": "markdown",
   "metadata": {},
   "source": [
    "## 工具"
   ]
  },
  {
   "cell_type": "code",
   "execution_count": 240,
   "metadata": {},
   "outputs": [],
   "source": [
    "from queue import Queue\n",
    "from random import randint as r\n",
    "from time import time as t\n",
    "\n",
    "\n",
    "class TreeNode:\n",
    "    def __init__(self, x):\n",
    "        self.val = x\n",
    "        self.left = None\n",
    "        self.right = None\n",
    "\n",
    "\n",
    "def generate_full_binary_tree(deep=3, max_value=10):\n",
    "    p = root = TreeNode(1)\n",
    "    stack = []\n",
    "    stack.append(p)\n",
    "    while len(stack) != 0:\n",
    "        p = stack[-1]\n",
    "        if len(stack) >= deep:\n",
    "            # 达到深度, 说明是叶节点, 可以出栈\n",
    "            stack.pop()\n",
    "        elif p.left is None:\n",
    "            # 没有左子节点, 则创建左子节点\n",
    "            p.left = TreeNode(1)\n",
    "            stack.append(p.left)\n",
    "        elif p.right is None:\n",
    "            # 没有右子节点, 则创建右子节点\n",
    "            p.right = TreeNode(1)\n",
    "            stack.append(p.right)\n",
    "        else:\n",
    "            # 不是叶节点, 同时有两个子节点, 可以出栈\n",
    "            stack.pop()\n",
    "    return root\n",
    "\n",
    "\n",
    "def generate_random_binary_tree(deep=3, max_value=10):\n",
    "    p = root = TreeNode(2)\n",
    "    stack = []\n",
    "    stack.append(p)\n",
    "    while len(stack) != 0:\n",
    "        p = stack[-1]\n",
    "        if r(0, 9) == 1 and len(stack) >= deep:\n",
    "            # 达到深度, 说明是叶节点, 可以出栈\n",
    "            stack.pop()\n",
    "        elif r(0, 1) == 1 and p.left is None:\n",
    "            # 没有左子节点, 则创建左子节点\n",
    "            p.left = TreeNode(2)\n",
    "            stack.append(p.left)\n",
    "        elif r(0, 1) == 1 and p.right is None:\n",
    "            # 没有右子节点, 则创建右子节点\n",
    "            p.right = TreeNode(2)\n",
    "            stack.append(p.right)\n",
    "        else:\n",
    "            # 不是叶节点, 同时有两个子节点, 可以出栈。 或者\"中奖\"了, 也可以出栈\n",
    "            stack.pop()\n",
    "    return root\n",
    "\n",
    "\n",
    "def generate_binary_tree(max_deep=10, max_value=20):\n",
    "    # 不生成空二叉树\n",
    "    deep = r(1, max_deep)\n",
    "    if r(0, 5) < 1:\n",
    "        # 生成满二叉树\n",
    "        return generate_full_binary_tree(deep, max_value)\n",
    "    else:\n",
    "        # 随机生成二叉树\n",
    "        return generate_random_binary_tree(deep, max_value)\n"
   ]
  },
  {
   "attachments": {},
   "cell_type": "markdown",
   "metadata": {},
   "source": [
    "## 实现"
   ]
  },
  {
   "cell_type": "code",
   "execution_count": 241,
   "metadata": {},
   "outputs": [],
   "source": [
    "def is_full_binary_tree1(root):\n",
    "    nodes, deep = get_nodes_deep(root)\n",
    "    return nodes == ((1 << deep) - 1)\n",
    "\n",
    "def get_nodes_deep(root):\n",
    "    if root is None:\n",
    "        return 0, 0\n",
    "    l_nodes, l_deep = get_nodes_deep(root.left)\n",
    "    r_nodes, r_deep = get_nodes_deep(root.right)\n",
    "    nodes = 1 + l_nodes + r_nodes \n",
    "    deep = 1 + max(r_deep, l_deep) \n",
    "    return nodes, deep\n"
   ]
  },
  {
   "cell_type": "code",
   "execution_count": 242,
   "metadata": {},
   "outputs": [],
   "source": [
    "def is_full_binary_tree2(root):\n",
    "    queue = Queue()\n",
    "    queue.put(root)\n",
    "\n",
    "    deep = 0\n",
    "    nodes = 0\n",
    "    cur_end = root\n",
    "    next_end = None\n",
    "\n",
    "    while not queue.empty():\n",
    "        p = queue.get()\n",
    "        nodes += 1\n",
    "        if (p.left is None and p.right is not None) or (p.left is not None and p.right is None):\n",
    "            return False\n",
    "        if p.left is not None:\n",
    "            next_end = p.left\n",
    "            queue.put(p.left)\n",
    "        if p.right is not None:\n",
    "            next_end = p.right\n",
    "            queue.put(p.right)\n",
    "        if p is cur_end:\n",
    "            cur_end = next_end\n",
    "            next_end = None\n",
    "            deep += 1\n",
    "    return nodes == (1<<deep)-1\n"
   ]
  },
  {
   "attachments": {},
   "cell_type": "markdown",
   "metadata": {},
   "source": [
    "## 测试"
   ]
  },
  {
   "cell_type": "code",
   "execution_count": 243,
   "metadata": {},
   "outputs": [
    {
     "name": "stdout",
     "output_type": "stream",
     "text": [
      " 3.69s, 判断满二叉树:  ✔️\n"
     ]
    }
   ],
   "source": [
    "test_time, max_size, max_value, succeed = 10_000, 10, 1000, True\n",
    "\n",
    "st = t()\n",
    "for _ in range(test_time):\n",
    "    root = generate_binary_tree(max_size, max_value)\n",
    "    test_flag1 = is_full_binary_tree1(root)\n",
    "    test_flag2 = is_full_binary_tree2(root)\n",
    "    if test_flag1 != test_flag2:\n",
    "        succeed = False\n",
    "        break\n",
    "print(f'{t()-st:5.2f}s, 判断满二叉树: ', '✔️' if succeed else '❌')"
   ]
  },
  {
   "attachments": {},
   "cell_type": "markdown",
   "metadata": {},
   "source": [
    "# 二叉树的序列化和反序列化"
   ]
  },
  {
   "cell_type": "code",
   "execution_count": 244,
   "metadata": {},
   "outputs": [],
   "source": [
    "def inorder_serialize_binary_tree(root):\n",
    "    _str = ['']\n",
    "    process_serialize(root, _str)\n",
    "    return _str[0]\n",
    "\n",
    "def process_serialize_inorder(root, _str):\n",
    "    if root is None:\n",
    "        _str[0] += '#_'\n",
    "        return\n",
    "    l = process_serialize(root.left, _str)\n",
    "    _str[0] += f'{root.val}_'\n",
    "    r = process_serialize(root.right, _str)\n"
   ]
  },
  {
   "cell_type": "code",
   "execution_count": 245,
   "metadata": {},
   "outputs": [
    {
     "data": {
      "text/plain": [
       "'[1]_[1]_[1]_[1]_[1]_[1]_[1]_[#]_[#]_[1]_[#]_[1]_[#]_[1]_[#]_[#]_[#]_[#]_[#]_[#]_[#]_'"
      ]
     },
     "execution_count": 245,
     "metadata": {},
     "output_type": "execute_result"
    }
   ],
   "source": [
    "def traverse_serialize_binary_tree(root):\n",
    "    queue = Queue()\n",
    "    queue.put(root)\n",
    "    _str = f'[{root.val}]_'\n",
    "    while not queue.empty():\n",
    "        p = queue.get()\n",
    "        \n",
    "        if p.left is not None:\n",
    "            queue.put(p.left)\n",
    "            _str += f'[{p.left.val}]_'\n",
    "        else:\n",
    "            _str += f'[#]_'\n",
    "        if p.right is not None:\n",
    "            queue.put(p.right)\n",
    "            _str += f'[{p.right.val}]_'\n",
    "        else:\n",
    "            _str += f'[#]_'\n",
    "    return _str\n",
    "\n",
    "root = TreeNode(1)\n",
    "\n",
    "root.left = TreeNode(1)\n",
    "root.right = TreeNode(1)\n",
    "\n",
    "root.left.left = TreeNode(1)\n",
    "root.left.right = TreeNode(1)\n",
    "root.right.left = TreeNode(1)\n",
    "root.right.right = TreeNode(1)\n",
    "\n",
    "# root.left.left.left = TreeNode(1)\n",
    "# root.left.left.right = TreeNode(1)\n",
    "root.left.right.left = TreeNode(1)\n",
    "# root.left.right.right = TreeNode(1)\n",
    "root.right.left.left = TreeNode(1)\n",
    "# root.right.left.right = TreeNode(1)\n",
    "root.right.right.left = TreeNode(1)\n",
    "# root.right.right.right = TreeNode(1)\n",
    "traverse_serialize_binary_tree(root)"
   ]
  }
 ],
 "metadata": {
  "kernelspec": {
   "display_name": "Python 3",
   "language": "python",
   "name": "python3"
  },
  "language_info": {
   "codemirror_mode": {
    "name": "ipython",
    "version": 3
   },
   "file_extension": ".py",
   "mimetype": "text/x-python",
   "name": "python",
   "nbconvert_exporter": "python",
   "pygments_lexer": "ipython3",
   "version": "3.11.0"
  },
  "orig_nbformat": 4
 },
 "nbformat": 4,
 "nbformat_minor": 2
}
