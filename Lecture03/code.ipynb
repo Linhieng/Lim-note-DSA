{
 "cells": [
  {
   "cell_type": "code",
   "execution_count": 3,
   "metadata": {},
   "outputs": [],
   "source": [
    "import random\n",
    "\n",
    "\n",
    "def generateRandomArray(maxSize, maxValue):\n",
    "    arr = [random.randint(-maxValue, maxValue) for _ in range(maxSize)]\n",
    "    return arr\n",
    "\n",
    "def generateRandomArray_p(maxSize, maxValue):\n",
    "    arr = [random.randint(0, maxValue) for _ in range(maxSize)]\n",
    "    return arr\n",
    "\n",
    "\n",
    "def copyArray(arr):\n",
    "    newArr = [*arr]\n",
    "    return newArr\n",
    "\n",
    "\n",
    "def isEqual(arr1, arr2):\n",
    "    for i, a1 in enumerate(arr1):\n",
    "        if a1 != arr2[i]:\n",
    "            return False\n",
    "    return True\n",
    "\n",
    "\n",
    "def swap(arr, i, j):\n",
    "    arr[i], arr[j] = arr[j], arr[i]"
   ]
  },
  {
   "attachments": {},
   "cell_type": "markdown",
   "metadata": {},
   "source": [
    "## 计数排序"
   ]
  },
  {
   "cell_type": "code",
   "execution_count": 54,
   "metadata": {},
   "outputs": [],
   "source": [
    "def countingSort(arr, maxValue=200):\n",
    "    # count 数组的下标就是值, 元素是该值的数量\n",
    "    count = [0] * (maxValue+1)\n",
    "    for item in arr:\n",
    "        count[item] += 1\n",
    "\n",
    "    i = 0\n",
    "    for age, count in enumerate(count):\n",
    "        while count > 0:\n",
    "            arr[i] = age\n",
    "            i += 1\n",
    "            count -= 1\n"
   ]
  },
  {
   "attachments": {},
   "cell_type": "markdown",
   "metadata": {},
   "source": [
    "## 基数排序"
   ]
  },
  {
   "cell_type": "code",
   "execution_count": 39,
   "metadata": {},
   "outputs": [],
   "source": [
    "def radixSort(arr):\n",
    "    max_digit = countMaxDigit(arr)\n",
    "\n",
    "    buckets = [[] for _ in range(10)]\n",
    "\n",
    "    for digit in range(1, max_digit+1):\n",
    "        # 入桶\n",
    "        for num in arr:\n",
    "            digitNum = getDigitNum(num, digit)\n",
    "            buckets[digitNum].append(num)\n",
    "        \n",
    "        # 出桶\n",
    "        i = 0\n",
    "        for bucket in buckets:\n",
    "            while len(bucket) > 0:\n",
    "                arr[i] = bucket.pop(0)\n",
    "                i += 1\n",
    "\n",
    "\n",
    "\n",
    "# 获取 num 的第 digit 位上的数字\n",
    "def getDigitNum(num, digit):\n",
    "    digitNum = 0\n",
    "    for _ in range(digit):\n",
    "        digitNum = num % 10\n",
    "        num = int(num / 10)\n",
    "\n",
    "    return digitNum\n",
    "\n",
    "\n",
    "# 获取数组最大数的位数\n",
    "def countMaxDigit(arr):\n",
    "    max_item = max(arr)\n",
    "    max_digit = 0\n",
    "    while max_item > 0:\n",
    "        max_item = int(max_item / 10)\n",
    "        max_digit += 1\n",
    "\n",
    "    return max_digit\n"
   ]
  },
  {
   "attachments": {},
   "cell_type": "markdown",
   "metadata": {},
   "source": [
    "## 基数排序2"
   ]
  },
  {
   "cell_type": "code",
   "execution_count": 62,
   "metadata": {},
   "outputs": [],
   "source": [
    "def radixSort2(arr, radix=10):\n",
    "\n",
    "    help = [0] * len(arr)\n",
    "    # 获取数组中最大值的位数\n",
    "    digit = maxBits(arr)\n",
    "\n",
    "    # 最大值有多少位, 就需要进出桶多少次\n",
    "    for d in range(1, digit+1):\n",
    "        count = [0] * radix\n",
    "\n",
    "        # t_count\n",
    "        for num in range(arr):\n",
    "            i = getDigit(num, d)\n",
    "            count[i] += 1\n",
    "\n",
    "        # 前缀和\n",
    "        for i in range(1, radix):\n",
    "            count[i] += count[i-1]\n",
    "\n",
    "        # 从右往左遍历 arr\n",
    "        for i in range(R, L-1, -1):\n",
    "            i = getDigit(arr[i], d)\n",
    "            a = count[i] = count[i] - 1\n",
    "            help[a] = arr[i]\n",
    "\n",
    "        i, j = L, 0\n",
    "        while i <= R:\n",
    "            arr[i] = help[j]\n",
    "            i += 1\n",
    "            j += 1\n",
    "\n",
    "\n",
    "def maxBits(arr):\n",
    "    max_item = max(arr)\n",
    "    max_digit = 0\n",
    "    while max_item > 0:\n",
    "        max_item = int(max_item / 10)\n",
    "        max_digit += 1\n",
    "\n",
    "    return max_digit\n",
    "\n",
    "\n",
    "def getDigit(num, digit):\n",
    "    digitNum = 0\n",
    "    for _ in range(digit):\n",
    "        digitNum = num % 10\n",
    "        num = int(num / 10)\n",
    "\n",
    "    return digitNum\n"
   ]
  },
  {
   "attachments": {},
   "cell_type": "markdown",
   "metadata": {},
   "source": [
    "## TEST"
   ]
  },
  {
   "cell_type": "code",
   "execution_count": 55,
   "metadata": {},
   "outputs": [
    {
     "name": "stdout",
     "output_type": "stream",
     "text": [
      "计数排序: ✔️\n"
     ]
    }
   ],
   "source": [
    "testTime = 5_000\n",
    "maxSize = 10000\n",
    "maxValue = 200\n",
    "succeed = True\n",
    "\n",
    "for i in range(0, testTime):\n",
    "    arr1 = generateRandomArray_p(maxSize, maxValue)\n",
    "    arr2 = copyArray(arr1)\n",
    "\n",
    "    test_res = countingSort(arr1)\n",
    "\n",
    "    real_res = arr2.sort()\n",
    "    if isEqual(arr1, arr2) == False:\n",
    "        succeed = False\n",
    "        break\n",
    "\n",
    "print('计数排序:', '✔️' if succeed else '❌')"
   ]
  },
  {
   "cell_type": "code",
   "execution_count": 64,
   "metadata": {},
   "outputs": [
    {
     "name": "stdout",
     "output_type": "stream",
     "text": [
      "基数排序 1: ✔️\n"
     ]
    }
   ],
   "source": [
    "testTime = 5_000\n",
    "maxSize = 100\n",
    "maxValue = 20000\n",
    "succeed = True\n",
    "\n",
    "for i in range(0, testTime):\n",
    "    arr1 = generateRandomArray_p(maxSize, maxValue)\n",
    "    arr2 = copyArray(arr1)\n",
    "\n",
    "    test_res = radixSort(arr1)\n",
    "\n",
    "    real_res = arr2.sort()\n",
    "    if isEqual(arr1, arr2) == False:\n",
    "        succeed = False\n",
    "        break\n",
    "\n",
    "print('基数排序 1:', '✔️' if succeed else '❌')"
   ]
  },
  {
   "cell_type": "code",
   "execution_count": 63,
   "metadata": {},
   "outputs": [
    {
     "name": "stdout",
     "output_type": "stream",
     "text": [
      "基数排序 2: ✔️\n"
     ]
    }
   ],
   "source": [
    "testTime = 5_000\n",
    "maxSize = 100\n",
    "maxValue = 20000\n",
    "succeed = True\n",
    "\n",
    "for i in range(0, testTime):\n",
    "    arr1 = generateRandomArray_p(maxSize, maxValue)\n",
    "    arr2 = copyArray(arr1)\n",
    "\n",
    "    test_res = bucketSort(arr1)\n",
    "\n",
    "    real_res = arr2.sort()\n",
    "    if isEqual(arr1, arr2) == False:\n",
    "        succeed = False\n",
    "        break\n",
    "\n",
    "print('基数排序 2:', '✔️' if succeed else '❌')"
   ]
  }
 ],
 "metadata": {
  "kernelspec": {
   "display_name": "Python 3",
   "language": "python",
   "name": "python3"
  },
  "language_info": {
   "codemirror_mode": {
    "name": "ipython",
    "version": 3
   },
   "file_extension": ".py",
   "mimetype": "text/x-python",
   "name": "python",
   "nbconvert_exporter": "python",
   "pygments_lexer": "ipython3",
   "version": "3.11.0"
  },
  "orig_nbformat": 4
 },
 "nbformat": 4,
 "nbformat_minor": 2
}
