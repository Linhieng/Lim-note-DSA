{
 "cells": [
  {
   "cell_type": "code",
   "execution_count": 21,
   "metadata": {},
   "outputs": [],
   "source": [
    "import random\n",
    "\n",
    "\n",
    "def generateRandomArray(maxSize, maxValue):\n",
    "    arr = [random.randint(-maxValue, maxValue) for _ in range(maxSize)]\n",
    "    return arr\n",
    "\n",
    "def generateRandomArray_p(maxSize, maxValue):\n",
    "    arr = [random.randint(0, maxValue) for _ in range(maxSize)]\n",
    "    return arr\n",
    "\n",
    "\n",
    "def copyArray(arr):\n",
    "    newArr = [*arr]\n",
    "    return newArr\n",
    "\n",
    "\n",
    "def isEqual(arr1, arr2):\n",
    "    for i, a1 in enumerate(arr1):\n",
    "        if a1 != arr2[i]:\n",
    "            return False\n",
    "    return True\n",
    "\n",
    "\n",
    "def swap(arr, i, j):\n",
    "    arr[i], arr[j] = arr[j], arr[i]"
   ]
  },
  {
   "attachments": {},
   "cell_type": "markdown",
   "metadata": {},
   "source": [
    "## heap insert"
   ]
  },
  {
   "cell_type": "code",
   "execution_count": 36,
   "metadata": {},
   "outputs": [],
   "source": [
    "def newHeap01(arr):\n",
    "    heap_size = 0\n",
    "    heap = []\n",
    "    for a in arr:\n",
    "        heap_size = heapInsert(heap, heap_size, a)\n",
    "    return heap, heap_size\n",
    "\n",
    "\n",
    "def heapInsert(heap, heap_size, new_item):\n",
    "    # 添加到末尾\n",
    "    heap.append(new_item)\n",
    "    heap_size += 1\n",
    "    i = heap_size - 1\n",
    "\n",
    "    # 维持大根堆\n",
    "    parent = int((i-1)/2)\n",
    "    while i > 0 and heap[i] > heap[parent]:\n",
    "        swap(heap, i, parent)\n",
    "        i = parent\n",
    "        parent = int((i-1)/2)\n",
    "\n",
    "    return heap_size\n",
    "\n",
    "\n",
    "def isMaxHeap(heap, heap_size, i=0):\n",
    "    # 定义：若当前节点大于等于最大子节点, 则该节点满足 二层大根堆\n",
    "    #      或者当前节点没有子节点, 也称为该节点满足 二层大根堆\n",
    "    if 2*i+1 >= heap_size:  # 如果没有子节点了, 说明到底了\n",
    "        return True\n",
    "    # 如果还没到底, 则要求当前节点和其两个子节点都满足大根堆\n",
    "    # 此处能保证一定有左子节点, 但不保证有右子节点\n",
    "    child_left = heap[2*i+1]\n",
    "    child_right = heap[2*i+2] if 2*i+2 < heap_size else child_left\n",
    "\n",
    "    if heap[i] >= child_left and heap[i] >= child_right:\n",
    "        return isMaxHeap(heap, heap_size, 2*i+1) and isMaxHeap(heap, heap_size, 2*i+2)\n",
    "\n",
    "    else:\n",
    "        return False\n"
   ]
  },
  {
   "attachments": {},
   "cell_type": "markdown",
   "metadata": {},
   "source": [
    "## heapify"
   ]
  },
  {
   "cell_type": "code",
   "execution_count": 45,
   "metadata": {},
   "outputs": [],
   "source": [
    "def newHeap02(arr):\n",
    "    heap_size = len(arr)\n",
    "    heap = [None] * heap_size\n",
    "    for i in range(heap_size):\n",
    "        heap[i] = arr[i]\n",
    "\n",
    "    for i in range( int(heap_size/2), -1, -1 ):\n",
    "        heapify(heap, heap_size, i)\n",
    "\n",
    "    return heap, heap_size\n",
    "\n",
    "\n",
    "def heapify(heap, heap_size, i=0):\n",
    "    child_left = 2*i+1\n",
    "    child_right = 2*i+2\n",
    "\n",
    "    while child_left < heap_size:\n",
    "        # 获取最大的子节点\n",
    "        largest = child_left\n",
    "        if child_right < heap_size and heap[child_left] < heap[child_right]:\n",
    "            largest = child_right\n",
    "        \n",
    "        if heap[i] > heap[largest]:\n",
    "            break\n",
    "        \n",
    "        swap(heap, i, largest)\n",
    "        i = largest\n",
    "        child_left = 2*i+1\n",
    "        child_right = 2*i+2\n",
    "\n",
    "\n",
    "    return heap_size"
   ]
  },
  {
   "attachments": {},
   "cell_type": "markdown",
   "metadata": {},
   "source": [
    "## 堆排序"
   ]
  },
  {
   "cell_type": "code",
   "execution_count": 64,
   "metadata": {},
   "outputs": [],
   "source": [
    "def arr2heap(arr):\n",
    "    heap_size = len(arr)\n",
    "    for i in range(int(heap_size/2), -1, -1):\n",
    "        heapify(arr, heap_size, i)\n",
    "\n",
    "\n",
    "# 采用大根堆的方式排序\n",
    "def heapSort(arr):\n",
    "    # 将数组转换为大根堆\n",
    "    arr2heap(arr)\n",
    "    heap_size = len(arr)\n",
    "\n",
    "    # 从最后一个节点开始遍历\n",
    "    for i in range(heap_size-1, -1, -1):\n",
    "        # 替换前后两个节点,\n",
    "        swap(arr, 0, i)\n",
    "        # 然后剔除最后一个节点\n",
    "        heap_size -= 1\n",
    "        # 重新维持大根堆, 因为是头节点变了, 所以执行 heapify\n",
    "        heapify(arr, heap_size)\n"
   ]
  },
  {
   "cell_type": "code",
   "execution_count": 34,
   "metadata": {},
   "outputs": [
    {
     "name": "stdout",
     "output_type": "stream",
     "text": [
      "7 4 6 1 3 2 5 \n",
      "6 4 5 1 3 2 \n"
     ]
    },
    {
     "data": {
      "text/plain": [
       "(True, False)"
      ]
     },
     "execution_count": 34,
     "metadata": {},
     "output_type": "execute_result"
    }
   ],
   "source": [
    "def printHeap(heap, heap_size):\n",
    "    i = 1\n",
    "    for item in heap:\n",
    "        print(item, end=' ')\n",
    "        i += 1\n",
    "        if i > heap_size:\n",
    "            break\n",
    "    print('')\n",
    "\n",
    "\n",
    "\n",
    "arr = [1,2,3,4,5,6,7]\n",
    "heap, heap_size = newHeap(arr)\n",
    "    \n",
    "\n",
    "printHeap(heap, heap_size)\n",
    "\n",
    "def heapPoll(heap, heap_size):\n",
    "    # 删除最大值\n",
    "    maxItem = heap[0]\n",
    "    heap[0] = heap[heap_size-1]\n",
    "    heap_size -= 1\n",
    "\n",
    "    heapify(heap, heap_size, 0)\n",
    "    return heap_size\n",
    "\n",
    "def heapify(heap, heap_size, i):\n",
    "    child_left = 2*i+1\n",
    "    child_right = 2*i+2\n",
    "\n",
    "    while child_left < heap_size:\n",
    "        # 获取最大的子节点\n",
    "        largest = child_left\n",
    "        if child_right < heap_size and heap[child_left] < heap[child_right]:\n",
    "            largest = child_right\n",
    "        \n",
    "        if heap[i] > heap[largest]:\n",
    "            break\n",
    "        \n",
    "        swap(heap, i, largest)\n",
    "        i = largest\n",
    "        child_left = 2*i+1\n",
    "        child_right = 2*i+2\n",
    "\n",
    "\n",
    "    return heap_size\n",
    "heap_size = heapPoll(heap, heap_size)\n",
    "printHeap(heap, heap_size)\n",
    "\n",
    "\n",
    "isMaxHeap(heap, heap_size), isMaxHeap(arr, len(arr))"
   ]
  },
  {
   "attachments": {},
   "cell_type": "markdown",
   "metadata": {},
   "source": [
    "## 比较器"
   ]
  },
  {
   "cell_type": "code",
   "execution_count": 12,
   "metadata": {},
   "outputs": [
    {
     "name": "stdout",
     "output_type": "stream",
     "text": [
      "[342, 6, 6, 4, 3, 2, 1, 1]\n"
     ]
    }
   ],
   "source": [
    "from functools import cmp_to_key\n",
    "import random\n",
    "\n",
    "\n",
    "def cmp(a, b):\n",
    "    return b-a\n",
    "\n",
    "\n",
    "arr = [random.randint(1, 100) for _ in range(10)]\n",
    "print(arr)\n",
    "\n",
    "sort_arr = sorted(arr, key=cmp_to_key(cmp))\n",
    "print(sort_arr)\n",
    "\n",
    "sort_arr = sorted(arr, key=cmp_to_key(lambda a, b: a-b))\n",
    "print(sort_arr)\n"
   ]
  },
  {
   "attachments": {},
   "cell_type": "markdown",
   "metadata": {},
   "source": [
    "## 计数排序"
   ]
  },
  {
   "cell_type": "code",
   "execution_count": 6,
   "metadata": {},
   "outputs": [],
   "source": [
    "def countingSort(arr, maxValue=200):\n",
    "    # count 数组的下标就是值, 元素是该值的数量\n",
    "    count = [0] * (maxValue+1)\n",
    "    for item in arr:\n",
    "        count[item] += 1\n",
    "\n",
    "    i = 0\n",
    "    for age, count in enumerate(count):\n",
    "        while count > 0:\n",
    "            arr[i] = age\n",
    "            i += 1\n",
    "            count -= 1\n"
   ]
  },
  {
   "attachments": {},
   "cell_type": "markdown",
   "metadata": {},
   "source": [
    "## 基数排序"
   ]
  },
  {
   "cell_type": "code",
   "execution_count": 7,
   "metadata": {},
   "outputs": [],
   "source": [
    "def radixSort(arr):\n",
    "    max_digit = countMaxDigit(arr)\n",
    "\n",
    "    buckets = [[] for _ in range(10)]\n",
    "\n",
    "    for digit in range(1, max_digit+1):\n",
    "        # 入桶\n",
    "        for num in arr:\n",
    "            digitNum = getDigitNum(num, digit)\n",
    "            buckets[digitNum].append(num)\n",
    "        \n",
    "        # 出桶\n",
    "        i = 0\n",
    "        for bucket in buckets:\n",
    "            while len(bucket) > 0:\n",
    "                arr[i] = bucket.pop(0)\n",
    "                i += 1\n",
    "\n",
    "\n",
    "\n",
    "# 获取 num 的第 digit 位上的数字\n",
    "def getDigitNum(num, digit):\n",
    "    digitNum = 0\n",
    "    for _ in range(digit):\n",
    "        digitNum = num % 10\n",
    "        num = int(num / 10)\n",
    "\n",
    "    return digitNum\n",
    "\n",
    "\n",
    "# 获取数组最大数的位数\n",
    "def countMaxDigit(arr):\n",
    "    max_item = max(arr)\n",
    "    max_digit = 0\n",
    "    while max_item > 0:\n",
    "        max_item = int(max_item / 10)\n",
    "        max_digit += 1\n",
    "\n",
    "    return max_digit\n"
   ]
  },
  {
   "attachments": {},
   "cell_type": "markdown",
   "metadata": {},
   "source": [
    "## 基数排序2"
   ]
  },
  {
   "cell_type": "code",
   "execution_count": 8,
   "metadata": {},
   "outputs": [],
   "source": [
    "def radixSort2(arr, radix=10):\n",
    "    # 创建辅助数组, 用来要出每次出桶后的元素\n",
    "    help = [0] * len(arr)\n",
    "\n",
    "    # 获取数组中最大值的位数\n",
    "    digit = maxBits(arr)\n",
    "\n",
    "    # 最大值有多少位, 就需要进出桶多少次\n",
    "    for d in range(1, digit+1):\n",
    "        count = [0] * radix\n",
    "\n",
    "        # 入桶:\n",
    "        # t_count, 统计数组中d位上的数频\n",
    "        for num in arr:\n",
    "            i = getDigit(num, d)\n",
    "            count[i] += 1\n",
    "        # 前缀和\n",
    "        for i in range(1, radix):\n",
    "            count[i] += count[i-1]\n",
    "\n",
    "        # 出桶: 从右往左反向遍历 arr\n",
    "        for num in reversed(arr):\n",
    "            i = getDigit(num, d) \n",
    "            a = count[i] = count[i] - 1 # 等同 a = --count[i]\n",
    "            help[a] = num\n",
    "\n",
    "        # 更新 arr\n",
    "        for i in range(len(arr)):\n",
    "            arr[i] = help[i]\n",
    "\n",
    "\n",
    "def maxBits(arr):\n",
    "    max_item = max(arr)\n",
    "    max_digit = 0\n",
    "    while max_item > 0:\n",
    "        max_item = int(max_item / 10)\n",
    "        max_digit += 1\n",
    "\n",
    "    return max_digit\n",
    "\n",
    "# 获取数字 num 第 digit 位上的值\n",
    "def getDigit(num, digit):\n",
    "    digitNum = 0\n",
    "    for _ in range(digit):\n",
    "        digitNum = num % 10\n",
    "        num = int(num / 10)\n",
    "\n",
    "    return digitNum\n"
   ]
  },
  {
   "attachments": {},
   "cell_type": "markdown",
   "metadata": {},
   "source": [
    "## TEST"
   ]
  },
  {
   "attachments": {},
   "cell_type": "markdown",
   "metadata": {},
   "source": [
    "### TEST - heap insert"
   ]
  },
  {
   "cell_type": "code",
   "execution_count": 43,
   "metadata": {},
   "outputs": [
    {
     "name": "stdout",
     "output_type": "stream",
     "text": [
      "heap insert: ✔️\n"
     ]
    }
   ],
   "source": [
    "testTime = 5_000\n",
    "maxSize = 100\n",
    "maxValue = 200\n",
    "succeed = True\n",
    "\n",
    "for i in range(0, testTime):\n",
    "    arr1 = generateRandomArray(maxSize, maxValue)\n",
    "\n",
    "    heap, heap_size = newHeap01(arr1)\n",
    "    \n",
    "    if isMaxHeap(heap, heap_size) == False:\n",
    "        succeed = False\n",
    "        break\n",
    "\n",
    "print('heap insert:', '✔️' if succeed else '❌')"
   ]
  },
  {
   "attachments": {},
   "cell_type": "markdown",
   "metadata": {},
   "source": [
    "### TEST - heapify"
   ]
  },
  {
   "cell_type": "code",
   "execution_count": 41,
   "metadata": {},
   "outputs": [
    {
     "name": "stdout",
     "output_type": "stream",
     "text": [
      "heapify ✔️\n"
     ]
    }
   ],
   "source": [
    "testTime = 5_000\n",
    "maxSize = 100\n",
    "maxValue = 200\n",
    "succeed = True\n",
    "\n",
    "for i in range(0, testTime):\n",
    "    arr1 = generateRandomArray(maxSize, maxValue)\n",
    "\n",
    "    heap, heap_size = newHeap02(arr1)\n",
    "    \n",
    "    if isMaxHeap(heap, heap_size) == False:\n",
    "        succeed = False\n",
    "        break\n",
    "\n",
    "print('heapify', '✔️' if succeed else '❌')"
   ]
  },
  {
   "attachments": {},
   "cell_type": "markdown",
   "metadata": {},
   "source": [
    "### TEST - 堆排序"
   ]
  },
  {
   "cell_type": "code",
   "execution_count": 66,
   "metadata": {},
   "outputs": [
    {
     "name": "stdout",
     "output_type": "stream",
     "text": [
      "堆排序 ✔️\n"
     ]
    }
   ],
   "source": [
    "testTime = 5_000\n",
    "maxSize = 100\n",
    "maxValue = 200\n",
    "succeed = True\n",
    "\n",
    "for i in range(0, testTime):\n",
    "    arr1 = generateRandomArray(maxSize, maxValue)\n",
    "    arr2 = copyArray(arr1)\n",
    "    \n",
    "    heapSort(arr1)\n",
    "    arr2.sort()\n",
    "    \n",
    "    if isEqual(arr1, arr2) == False:\n",
    "        print(arr1)\n",
    "        succeed = False\n",
    "        break\n",
    "\n",
    "print('堆排序', '✔️' if succeed else '❌')"
   ]
  },
  {
   "attachments": {},
   "cell_type": "markdown",
   "metadata": {},
   "source": [
    "### TEST - 堆扩容"
   ]
  },
  {
   "cell_type": "code",
   "execution_count": null,
   "metadata": {},
   "outputs": [],
   "source": []
  },
  {
   "attachments": {},
   "cell_type": "markdown",
   "metadata": {},
   "source": [
    "### TEST - 计数排序"
   ]
  },
  {
   "cell_type": "code",
   "execution_count": 9,
   "metadata": {},
   "outputs": [
    {
     "name": "stdout",
     "output_type": "stream",
     "text": [
      "计数排序: ✔️\n"
     ]
    }
   ],
   "source": [
    "testTime = 5_000\n",
    "maxSize = 10000\n",
    "maxValue = 200\n",
    "succeed = True\n",
    "\n",
    "for i in range(0, testTime):\n",
    "    arr1 = generateRandomArray_p(maxSize, maxValue)\n",
    "    arr2 = copyArray(arr1)\n",
    "\n",
    "    test_res = countingSort(arr1)\n",
    "\n",
    "    real_res = arr2.sort()\n",
    "    if isEqual(arr1, arr2) == False:\n",
    "        succeed = False\n",
    "        break\n",
    "\n",
    "print('计数排序:', '✔️' if succeed else '❌')"
   ]
  },
  {
   "attachments": {},
   "cell_type": "markdown",
   "metadata": {},
   "source": [
    "### TEST - 基数排序1"
   ]
  },
  {
   "cell_type": "code",
   "execution_count": 10,
   "metadata": {},
   "outputs": [
    {
     "name": "stdout",
     "output_type": "stream",
     "text": [
      "基数排序 1: ✔️\n"
     ]
    }
   ],
   "source": [
    "testTime = 5_000\n",
    "maxSize = 100\n",
    "maxValue = 20000\n",
    "succeed = True\n",
    "\n",
    "for i in range(0, testTime):\n",
    "    arr1 = generateRandomArray_p(maxSize, maxValue)\n",
    "    arr2 = copyArray(arr1)\n",
    "\n",
    "    test_res = radixSort(arr1)\n",
    "\n",
    "    real_res = arr2.sort()\n",
    "    if isEqual(arr1, arr2) == False:\n",
    "        succeed = False\n",
    "        break\n",
    "\n",
    "print('基数排序 1:', '✔️' if succeed else '❌')"
   ]
  },
  {
   "attachments": {},
   "cell_type": "markdown",
   "metadata": {},
   "source": [
    "### TEST - 基数排序2"
   ]
  },
  {
   "cell_type": "code",
   "execution_count": 12,
   "metadata": {},
   "outputs": [
    {
     "name": "stdout",
     "output_type": "stream",
     "text": [
      "基数排序 2: ✔️\n"
     ]
    }
   ],
   "source": [
    "testTime = 5_000\n",
    "maxSize = 100\n",
    "maxValue = 20000\n",
    "succeed = True\n",
    "\n",
    "for i in range(0, testTime):\n",
    "    arr1 = generateRandomArray_p(maxSize, maxValue)\n",
    "    arr2 = copyArray(arr1)\n",
    "\n",
    "    test_res = radixSort2(arr1)\n",
    "\n",
    "    real_res = arr2.sort()\n",
    "    if isEqual(arr1, arr2) == False:\n",
    "        succeed = False\n",
    "        break\n",
    "\n",
    "print('基数排序 2:', '✔️' if succeed else '❌')"
   ]
  }
 ],
 "metadata": {
  "kernelspec": {
   "display_name": "Python 3",
   "language": "python",
   "name": "python3"
  },
  "language_info": {
   "codemirror_mode": {
    "name": "ipython",
    "version": 3
   },
   "file_extension": ".py",
   "mimetype": "text/x-python",
   "name": "python",
   "nbconvert_exporter": "python",
   "pygments_lexer": "ipython3",
   "version": "3.11.0"
  },
  "orig_nbformat": 4
 },
 "nbformat": 4,
 "nbformat_minor": 2
}
